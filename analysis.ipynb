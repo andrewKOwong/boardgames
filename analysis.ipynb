{
 "cells": [
  {
   "cell_type": "code",
   "execution_count": 9,
   "metadata": {},
   "outputs": [],
   "source": [
    "from importlib import reload\n",
    "import os\n",
    "import pandas as pd\n",
    "import numpy as np\n",
    "import matplotlib.pyplot as plt\n",
    "import xml.etree.ElementTree as ET\n",
    "import utils as u\n",
    "import seaborn as sns\n",
    "from IPython.core.display import display, HTML"
   ]
  },
  {
   "cell_type": "code",
   "execution_count": 10,
   "metadata": {},
   "outputs": [
    {
     "data": {
      "text/plain": [
       "<module 'utils' from '/home/andrew/projects/boardgames/utils.py'>"
      ]
     },
     "execution_count": 10,
     "metadata": {},
     "output_type": "execute_result"
    }
   ],
   "source": [
    "reload(u)"
   ]
  },
  {
   "cell_type": "code",
   "execution_count": 11,
   "metadata": {},
   "outputs": [],
   "source": [
    "# Get all the xml file names\n",
    "xml_data_files = [\"./data/\"+file for file in os.listdir(\"./data/\") if file.endswith('.xml')]\n",
    "xml_data_files.sort()\n",
    "# Extract the data into a single dataframe\n",
    "data_kwargs = {'id':True, 'year_published':True}\n",
    "df = pd.concat([pd.DataFrame(u.extract_xml(file, **data_kwargs)) for file in xml_data_files], axis=0)\n"
   ]
  },
  {
   "cell_type": "code",
   "execution_count": 12,
   "metadata": {},
   "outputs": [
    {
     "name": "stdout",
     "output_type": "stream",
     "text": [
      "Summary \n",
      "------\n",
      "1171 items. 4 duplicates.\n",
      "115 missing year published info.\n"
     ]
    }
   ],
   "source": [
    "print(\"Summary \\n------\")\n",
    "print(f\"{df.shape[0]} items. {df.duplicated().sum()} duplicates.\")\n",
    "print(f\"{(df['year_published'] == 0).sum()} missing year published info.\")"
   ]
  },
  {
   "cell_type": "code",
   "execution_count": 13,
   "metadata": {},
   "outputs": [],
   "source": [
    "clean_df = df.drop_duplicates().query(\"year_published != 0\")"
   ]
  },
  {
   "cell_type": "code",
   "execution_count": 14,
   "metadata": {},
   "outputs": [
    {
     "data": {
      "text/plain": [
       "count    1052.000000\n",
       "mean     2002.597909\n",
       "std        45.345706\n",
       "min       700.000000\n",
       "25%      1999.000000\n",
       "50%      2010.000000\n",
       "75%      2017.000000\n",
       "max      2023.000000\n",
       "Name: year_published, dtype: float64"
      ]
     },
     "execution_count": 14,
     "metadata": {},
     "output_type": "execute_result"
    }
   ],
   "source": [
    "clean_df.year_published.describe()"
   ]
  },
  {
   "cell_type": "code",
   "execution_count": 22,
   "metadata": {},
   "outputs": [],
   "source": [
    "def plot_year_hist(df: pd.DataFrame,\n",
    "                   year_published_key: str = 'year_published',\n",
    "                   n_bins: int = 50,\n",
    "                   bin_range: tuple[float, float] = None):\n",
    "    fig, ax = plt.subplots()\n",
    "    n, bins, patches = ax.hist(x=year_published_key,\n",
    "                               data=df,\n",
    "                               range=bin_range,\n",
    "                               bins=n_bins)\n",
    "\n",
    "    return ax"
   ]
  },
  {
   "cell_type": "code",
   "execution_count": 24,
   "metadata": {},
   "outputs": [
    {
     "name": "stdout",
     "output_type": "stream",
     "text": [
      "[  0.   0.   0.   0.   1.   1.   0.   0.   0.   0.   0.   0.   0.   0.\n",
      "   0.   0.   1.   0.   0.   0.   1.   0.   1.   1.   1.   1.   1.   2.\n",
      "   2.   4.   3.   6.   2.   2.   7.   5.   7.   8.  16.  25.  19.  27.\n",
      "  40.  44.  41.  83. 112. 176. 178. 229.]\n",
      "[1800.   1804.44 1808.88 1813.32 1817.76 1822.2  1826.64 1831.08 1835.52\n",
      " 1839.96 1844.4  1848.84 1853.28 1857.72 1862.16 1866.6  1871.04 1875.48\n",
      " 1879.92 1884.36 1888.8  1893.24 1897.68 1902.12 1906.56 1911.   1915.44\n",
      " 1919.88 1924.32 1928.76 1933.2  1937.64 1942.08 1946.52 1950.96 1955.4\n",
      " 1959.84 1964.28 1968.72 1973.16 1977.6  1982.04 1986.48 1990.92 1995.36\n",
      " 1999.8  2004.24 2008.68 2013.12 2017.56 2022.  ]\n",
      "<BarContainer object of 50 artists>\n"
     ]
    },
    {
     "data": {
      "image/png": "[encoded data removed]",
      "text/plain": [
       "<Figure size 432x288 with 1 Axes>"
      ]
     },
     "metadata": {
      "needs_background": "light"
     },
     "output_type": "display_data"
    }
   ],
   "source": [
    "test = plot_year_hist(clean_df, bin_range=(1800, 2022))"
   ]
  },
  {
   "cell_type": "code",
   "execution_count": 17,
   "metadata": {},
   "outputs": [
    {
     "data": {
      "text/plain": [
       "102    2448\n",
       "Name: id, dtype: int64"
      ]
     },
     "execution_count": 17,
     "metadata": {},
     "output_type": "execute_result"
    }
   ],
   "source": [
    "clean_df.id[clean_df.year_published < 1000]"
   ]
  },
  {
   "cell_type": "code",
   "execution_count": 18,
   "metadata": {},
   "outputs": [
    {
     "data": {
      "text/html": [
       "<a href=https://boardgamegeek.com/boardgame/2448>ID: 2448</a>"
      ],
      "text/plain": [
       "<IPython.core.display.HTML object>"
      ]
     },
     "metadata": {},
     "output_type": "display_data"
    }
   ],
   "source": [
    "u.display_id_link(2448)\n",
    "\n"
   ]
  }
 ],
 "metadata": {
  "interpreter": {
   "hash": "269acb319182af4764f386178fe3e9bf8a3741ad85f0076b31cb05aa643c543d"
  },
  "kernelspec": {
   "display_name": "Python 3.9.4 64-bit ('dsci': conda)",
   "language": "python",
   "name": "python3"
  },
  "language_info": {
   "codemirror_mode": {
    "name": "ipython",
    "version": 3
   },
   "file_extension": ".py",
   "mimetype": "text/x-python",
   "name": "python",
   "nbconvert_exporter": "python",
   "pygments_lexer": "ipython3",
   "version": "3.9.12"
  },
  "orig_nbformat": 4
 },
 "nbformat": 4,
 "nbformat_minor": 2
}
