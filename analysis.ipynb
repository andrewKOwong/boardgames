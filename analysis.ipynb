{
 "cells": [
  {
   "cell_type": "markdown",
   "id": "d88f8b69-0641-4388-9864-af0b1a513a66",
   "metadata": {},
   "source": [
    "# TODO Titleb\n",
    "\n",
    "\n",
    "Recommendation: Use Jupyter Lab -> View -> Render Side by Side, and Right Click on Cell -> Enable Scrolling for Outputs\n",
    "Recommendation: Use Jupyter Lab's left side bar to navigate between sections"
   ]
  },
  {
   "cell_type": "code",
   "execution_count": 218,
   "id": "bf4e8f99-f5f1-4955-bbae-7b401b570a38",
   "metadata": {},
   "outputs": [],
   "source": [
    "import pandas as pd\n",
    "import numpy as np\n",
    "import matplotlib.pyplot as plt\n",
    "import seaborn as sns\n",
    "import random\n",
    "from time import perf_counter\n",
    "from IPython.display import display\n",
    "from importlib import reload\n",
    "from core import analysis_utils as au\n",
    "reload(au);\n",
    "\n",
    "sns.set_theme(style='dark')\n",
    "#plt.style.use('ggplot')\n",
    "%matplotlib inline"
   ]
  },
  {
   "cell_type": "code",
   "execution_count": 2,
   "id": "f886d437-9e8d-4f07-8cd7-9deea10a2059",
   "metadata": {},
   "outputs": [],
   "source": [
    "CURRENT_YEAR = 2022\n",
    "PATH_GENERAL_DATA = \"./data/parquet/2022-09-19_general_data.parquet\"\n",
    "PATH_LINK_DATA = \"./data/parquet/2022-09-19_link_data.parquet\"\n",
    "PATH_POLL_DATA = \"./data/parquet/2022-09-19_poll_data.parquet\"\n",
    "ASPECT_WIDE = 16/9\n",
    "ASPECT_NARROW = 4/3\n",
    "ASPECT_SQUARE = 1\n",
    "HEIGHT_STANDARD = 5"
   ]
  },
  {
   "cell_type": "code",
   "execution_count": 220,
   "id": "82eb5af6-6682-4d37-a4e8-2bcd7aa5d529",
   "metadata": {},
   "outputs": [
    {
     "name": "stdout",
     "output_type": "stream",
     "text": [
      "Loading took 4.51 seconds.\n"
     ]
    }
   ],
   "source": [
    "t1 = perf_counter()\n",
    "gen_df = pd.read_parquet(PATH_GENERAL_DATA)\n",
    "link_df = pd.read_parquet(PATH_LINK_DATA)\n",
    "poll_df = pd.read_parquet(PATH_POLL_DATA)\n",
    "t2 = perf_counter()\n",
    "print(f\"Loading took {t2 - t1:.2f} seconds.\")"
   ]
  },
  {
   "cell_type": "markdown",
   "id": "a186f497-84ed-4dd5-973c-cea8fee49da0",
   "metadata": {},
   "source": [
    "## General Data\n"
   ]
  },
  {
   "cell_type": "markdown",
   "id": "589ed0be-629a-437e-b4d8-095a635ad91b",
   "metadata": {},
   "source": [
    "### Overview "
   ]
  },
  {
   "cell_type": "code",
   "execution_count": null,
   "id": "299be939-3be8-4049-a3e9-83090c9fccfb",
   "metadata": {},
   "outputs": [],
   "source": []
  },
  {
   "cell_type": "markdown",
   "id": "8f91b849-30f2-43b7-bdbf-11577caedaa9",
   "metadata": {},
   "source": [
    "Most numbers are `int`, with `float` for statistical measures. Twenty-seven (27) games are missing descriptions."
   ]
  },
  {
   "cell_type": "code",
   "execution_count": null,
   "id": "544de853-a41a-41fa-b49a-be00e4e0ba5f",
   "metadata": {},
   "outputs": [],
   "source": []
  },
  {
   "cell_type": "code",
   "execution_count": 4,
   "id": "faefc4bf-0e28-4cf7-9e45-1b4dbc18db94",
   "metadata": {
    "scrolled": true,
    "tags": []
   },
   "outputs": [
    {
     "name": "stdout",
     "output_type": "stream",
     "text": [
      "NULLS AND DATATYPES\n",
      "===================\n",
      "<class 'pandas.core.frame.DataFrame'>\n",
      "RangeIndex: 108015 entries, 0 to 108014\n",
      "Data columns (total 23 columns):\n",
      " #   Column                   Non-Null Count   Dtype  \n",
      "---  ------                   --------------   -----  \n",
      " 0   id                       108015 non-null  int64  \n",
      " 1   type                     108015 non-null  object \n",
      " 2   name                     108015 non-null  object \n",
      " 3   description              107988 non-null  object \n",
      " 4   year_published           108015 non-null  int64  \n",
      " 5   players_min              108015 non-null  int64  \n",
      " 6   players_max              108015 non-null  int64  \n",
      " 7   playtime                 108015 non-null  int64  \n",
      " 8   playtime_min             108015 non-null  int64  \n",
      " 9   playtime_max             108015 non-null  int64  \n",
      " 10  age_min                  108015 non-null  int64  \n",
      " 11  ratings_n                108015 non-null  int64  \n",
      " 12  ratings_mean             108015 non-null  float64\n",
      " 13  ratings_bayes_average    108015 non-null  float64\n",
      " 14  ratings_stddev           108015 non-null  float64\n",
      " 15  ratings_median           108015 non-null  float64\n",
      " 16  ratings_owned            108015 non-null  int64  \n",
      " 17  ratings_trading          108015 non-null  int64  \n",
      " 18  ratings_wanting          108015 non-null  int64  \n",
      " 19  ratings_wishing          108015 non-null  int64  \n",
      " 20  ratings_comments_n       108015 non-null  int64  \n",
      " 21  ratings_weights_n        108015 non-null  int64  \n",
      " 22  ratings_weights_average  108015 non-null  float64\n",
      "dtypes: float64(5), int64(15), object(3)\n",
      "memory usage: 19.0+ MB\n",
      "\n",
      "\n",
      "\n",
      "NULL COUNTS\n",
      "===========\n",
      "description: 27\n",
      "\n",
      "\n",
      "\n",
      "DESCRIPTION\n",
      "===========\n"
     ]
    },
    {
     "data": {
      "text/html": [
       "<div>\n",
       "<style scoped>\n",
       "    .dataframe tbody tr th:only-of-type {\n",
       "        vertical-align: middle;\n",
       "    }\n",
       "\n",
       "    .dataframe tbody tr th {\n",
       "        vertical-align: top;\n",
       "    }\n",
       "\n",
       "    .dataframe thead th {\n",
       "        text-align: right;\n",
       "    }\n",
       "</style>\n",
       "<table border=\"1\" class=\"dataframe\">\n",
       "  <thead>\n",
       "    <tr style=\"text-align: right;\">\n",
       "      <th></th>\n",
       "      <th>id</th>\n",
       "      <th>year_published</th>\n",
       "      <th>players_min</th>\n",
       "      <th>players_max</th>\n",
       "      <th>playtime</th>\n",
       "      <th>playtime_min</th>\n",
       "      <th>playtime_max</th>\n",
       "      <th>age_min</th>\n",
       "      <th>ratings_n</th>\n",
       "      <th>ratings_mean</th>\n",
       "      <th>ratings_bayes_average</th>\n",
       "      <th>ratings_stddev</th>\n",
       "      <th>ratings_median</th>\n",
       "      <th>ratings_owned</th>\n",
       "      <th>ratings_trading</th>\n",
       "      <th>ratings_wanting</th>\n",
       "      <th>ratings_wishing</th>\n",
       "      <th>ratings_comments_n</th>\n",
       "      <th>ratings_weights_n</th>\n",
       "      <th>ratings_weights_average</th>\n",
       "    </tr>\n",
       "  </thead>\n",
       "  <tbody>\n",
       "    <tr>\n",
       "      <th>count</th>\n",
       "      <td>108015.000000</td>\n",
       "      <td>108015.000000</td>\n",
       "      <td>108015.000000</td>\n",
       "      <td>108015.000000</td>\n",
       "      <td>1.080150e+05</td>\n",
       "      <td>108015.000000</td>\n",
       "      <td>1.080150e+05</td>\n",
       "      <td>108015.000000</td>\n",
       "      <td>108015.000000</td>\n",
       "      <td>108015.000000</td>\n",
       "      <td>108015.000000</td>\n",
       "      <td>108015.000000</td>\n",
       "      <td>108015.0</td>\n",
       "      <td>108015.000000</td>\n",
       "      <td>108015.000000</td>\n",
       "      <td>108015.000000</td>\n",
       "      <td>108015.000000</td>\n",
       "      <td>108015.000000</td>\n",
       "      <td>108015.000000</td>\n",
       "      <td>108015.000000</td>\n",
       "    </tr>\n",
       "    <tr>\n",
       "      <th>mean</th>\n",
       "      <td>144502.139046</td>\n",
       "      <td>1826.884525</td>\n",
       "      <td>1.992279</td>\n",
       "      <td>6.459381</td>\n",
       "      <td>1.095789e+03</td>\n",
       "      <td>41.055659</td>\n",
       "      <td>1.095789e+03</td>\n",
       "      <td>7.484081</td>\n",
       "      <td>194.979262</td>\n",
       "      <td>4.584989</td>\n",
       "      <td>1.226673</td>\n",
       "      <td>0.899536</td>\n",
       "      <td>0.0</td>\n",
       "      <td>340.307948</td>\n",
       "      <td>9.703402</td>\n",
       "      <td>9.470861</td>\n",
       "      <td>54.275573</td>\n",
       "      <td>47.778383</td>\n",
       "      <td>10.928158</td>\n",
       "      <td>0.846159</td>\n",
       "    </tr>\n",
       "    <tr>\n",
       "      <th>std</th>\n",
       "      <td>116161.241706</td>\n",
       "      <td>567.429968</td>\n",
       "      <td>0.846712</td>\n",
       "      <td>49.568074</td>\n",
       "      <td>2.179718e+05</td>\n",
       "      <td>556.653931</td>\n",
       "      <td>2.179718e+05</td>\n",
       "      <td>7.816799</td>\n",
       "      <td>1802.471195</td>\n",
       "      <td>2.984667</td>\n",
       "      <td>2.343914</td>\n",
       "      <td>0.882034</td>\n",
       "      <td>0.0</td>\n",
       "      <td>2675.559029</td>\n",
       "      <td>51.038205</td>\n",
       "      <td>55.819807</td>\n",
       "      <td>393.731692</td>\n",
       "      <td>327.203946</td>\n",
       "      <td>97.638728</td>\n",
       "      <td>1.101630</td>\n",
       "    </tr>\n",
       "    <tr>\n",
       "      <th>min</th>\n",
       "      <td>1.000000</td>\n",
       "      <td>-3500.000000</td>\n",
       "      <td>0.000000</td>\n",
       "      <td>0.000000</td>\n",
       "      <td>0.000000e+00</td>\n",
       "      <td>0.000000</td>\n",
       "      <td>0.000000e+00</td>\n",
       "      <td>0.000000</td>\n",
       "      <td>0.000000</td>\n",
       "      <td>0.000000</td>\n",
       "      <td>0.000000</td>\n",
       "      <td>0.000000</td>\n",
       "      <td>0.0</td>\n",
       "      <td>0.000000</td>\n",
       "      <td>0.000000</td>\n",
       "      <td>0.000000</td>\n",
       "      <td>0.000000</td>\n",
       "      <td>0.000000</td>\n",
       "      <td>0.000000</td>\n",
       "      <td>0.000000</td>\n",
       "    </tr>\n",
       "    <tr>\n",
       "      <th>25%</th>\n",
       "      <td>31041.500000</td>\n",
       "      <td>1988.000000</td>\n",
       "      <td>2.000000</td>\n",
       "      <td>2.000000</td>\n",
       "      <td>1.000000e+01</td>\n",
       "      <td>10.000000</td>\n",
       "      <td>1.000000e+01</td>\n",
       "      <td>4.000000</td>\n",
       "      <td>1.000000</td>\n",
       "      <td>1.000000</td>\n",
       "      <td>0.000000</td>\n",
       "      <td>0.000000</td>\n",
       "      <td>0.0</td>\n",
       "      <td>2.000000</td>\n",
       "      <td>0.000000</td>\n",
       "      <td>0.000000</td>\n",
       "      <td>0.000000</td>\n",
       "      <td>0.000000</td>\n",
       "      <td>0.000000</td>\n",
       "      <td>0.000000</td>\n",
       "    </tr>\n",
       "    <tr>\n",
       "      <th>50%</th>\n",
       "      <td>129564.000000</td>\n",
       "      <td>2008.000000</td>\n",
       "      <td>2.000000</td>\n",
       "      <td>4.000000</td>\n",
       "      <td>3.000000e+01</td>\n",
       "      <td>20.000000</td>\n",
       "      <td>3.000000e+01</td>\n",
       "      <td>8.000000</td>\n",
       "      <td>3.000000</td>\n",
       "      <td>5.583000</td>\n",
       "      <td>0.000000</td>\n",
       "      <td>1.000000</td>\n",
       "      <td>0.0</td>\n",
       "      <td>8.000000</td>\n",
       "      <td>0.000000</td>\n",
       "      <td>0.000000</td>\n",
       "      <td>2.000000</td>\n",
       "      <td>2.000000</td>\n",
       "      <td>0.000000</td>\n",
       "      <td>0.000000</td>\n",
       "    </tr>\n",
       "    <tr>\n",
       "      <th>75%</th>\n",
       "      <td>247799.500000</td>\n",
       "      <td>2016.000000</td>\n",
       "      <td>2.000000</td>\n",
       "      <td>6.000000</td>\n",
       "      <td>6.000000e+01</td>\n",
       "      <td>45.000000</td>\n",
       "      <td>6.000000e+01</td>\n",
       "      <td>12.000000</td>\n",
       "      <td>21.000000</td>\n",
       "      <td>6.769000</td>\n",
       "      <td>0.000000</td>\n",
       "      <td>1.533850</td>\n",
       "      <td>0.0</td>\n",
       "      <td>57.000000</td>\n",
       "      <td>2.000000</td>\n",
       "      <td>2.000000</td>\n",
       "      <td>9.000000</td>\n",
       "      <td>10.000000</td>\n",
       "      <td>2.000000</td>\n",
       "      <td>1.667000</td>\n",
       "    </tr>\n",
       "    <tr>\n",
       "      <th>max</th>\n",
       "      <td>362381.000000</td>\n",
       "      <td>2026.000000</td>\n",
       "      <td>50.000000</td>\n",
       "      <td>11299.000000</td>\n",
       "      <td>6.307200e+07</td>\n",
       "      <td>157680.000000</td>\n",
       "      <td>6.307200e+07</td>\n",
       "      <td>2017.000000</td>\n",
       "      <td>113935.000000</td>\n",
       "      <td>10.000000</td>\n",
       "      <td>8.469000</td>\n",
       "      <td>4.500000</td>\n",
       "      <td>0.0</td>\n",
       "      <td>178195.000000</td>\n",
       "      <td>2741.000000</td>\n",
       "      <td>1960.000000</td>\n",
       "      <td>20430.000000</td>\n",
       "      <td>20125.000000</td>\n",
       "      <td>7854.000000</td>\n",
       "      <td>5.000000</td>\n",
       "    </tr>\n",
       "  </tbody>\n",
       "</table>\n",
       "</div>"
      ],
      "text/plain": [
       "                  id  year_published    players_min    players_max  \\\n",
       "count  108015.000000   108015.000000  108015.000000  108015.000000   \n",
       "mean   144502.139046     1826.884525       1.992279       6.459381   \n",
       "std    116161.241706      567.429968       0.846712      49.568074   \n",
       "min         1.000000    -3500.000000       0.000000       0.000000   \n",
       "25%     31041.500000     1988.000000       2.000000       2.000000   \n",
       "50%    129564.000000     2008.000000       2.000000       4.000000   \n",
       "75%    247799.500000     2016.000000       2.000000       6.000000   \n",
       "max    362381.000000     2026.000000      50.000000   11299.000000   \n",
       "\n",
       "           playtime   playtime_min  playtime_max        age_min  \\\n",
       "count  1.080150e+05  108015.000000  1.080150e+05  108015.000000   \n",
       "mean   1.095789e+03      41.055659  1.095789e+03       7.484081   \n",
       "std    2.179718e+05     556.653931  2.179718e+05       7.816799   \n",
       "min    0.000000e+00       0.000000  0.000000e+00       0.000000   \n",
       "25%    1.000000e+01      10.000000  1.000000e+01       4.000000   \n",
       "50%    3.000000e+01      20.000000  3.000000e+01       8.000000   \n",
       "75%    6.000000e+01      45.000000  6.000000e+01      12.000000   \n",
       "max    6.307200e+07  157680.000000  6.307200e+07    2017.000000   \n",
       "\n",
       "           ratings_n   ratings_mean  ratings_bayes_average  ratings_stddev  \\\n",
       "count  108015.000000  108015.000000          108015.000000   108015.000000   \n",
       "mean      194.979262       4.584989               1.226673        0.899536   \n",
       "std      1802.471195       2.984667               2.343914        0.882034   \n",
       "min         0.000000       0.000000               0.000000        0.000000   \n",
       "25%         1.000000       1.000000               0.000000        0.000000   \n",
       "50%         3.000000       5.583000               0.000000        1.000000   \n",
       "75%        21.000000       6.769000               0.000000        1.533850   \n",
       "max    113935.000000      10.000000               8.469000        4.500000   \n",
       "\n",
       "       ratings_median  ratings_owned  ratings_trading  ratings_wanting  \\\n",
       "count        108015.0  108015.000000    108015.000000    108015.000000   \n",
       "mean              0.0     340.307948         9.703402         9.470861   \n",
       "std               0.0    2675.559029        51.038205        55.819807   \n",
       "min               0.0       0.000000         0.000000         0.000000   \n",
       "25%               0.0       2.000000         0.000000         0.000000   \n",
       "50%               0.0       8.000000         0.000000         0.000000   \n",
       "75%               0.0      57.000000         2.000000         2.000000   \n",
       "max               0.0  178195.000000      2741.000000      1960.000000   \n",
       "\n",
       "       ratings_wishing  ratings_comments_n  ratings_weights_n  \\\n",
       "count    108015.000000       108015.000000      108015.000000   \n",
       "mean         54.275573           47.778383          10.928158   \n",
       "std         393.731692          327.203946          97.638728   \n",
       "min           0.000000            0.000000           0.000000   \n",
       "25%           0.000000            0.000000           0.000000   \n",
       "50%           2.000000            2.000000           0.000000   \n",
       "75%           9.000000           10.000000           2.000000   \n",
       "max       20430.000000        20125.000000        7854.000000   \n",
       "\n",
       "       ratings_weights_average  \n",
       "count            108015.000000  \n",
       "mean                  0.846159  \n",
       "std                   1.101630  \n",
       "min                   0.000000  \n",
       "25%                   0.000000  \n",
       "50%                   0.000000  \n",
       "75%                   1.667000  \n",
       "max                   5.000000  "
      ]
     },
     "metadata": {},
     "output_type": "display_data"
    }
   ],
   "source": [
    "au.print_titled_text(\"Nulls and Datatypes\")\n",
    "gen_df.info()\n",
    "au.print_spacer()\n",
    "au.print_null_count(gen_df)\n",
    "au.print_spacer()\n",
    "au.print_titled_text(\"Description\")\n",
    "display(gen_df.describe())"
   ]
  },
  {
   "cell_type": "code",
   "execution_count": 5,
   "id": "d9966814-2a1e-4d10-bf4f-abcb5fa43e07",
   "metadata": {},
   "outputs": [
    {
     "data": {
      "text/html": [
       "<div>\n",
       "<style scoped>\n",
       "    .dataframe tbody tr th:only-of-type {\n",
       "        vertical-align: middle;\n",
       "    }\n",
       "\n",
       "    .dataframe tbody tr th {\n",
       "        vertical-align: top;\n",
       "    }\n",
       "\n",
       "    .dataframe thead th {\n",
       "        text-align: right;\n",
       "    }\n",
       "</style>\n",
       "<table border=\"1\" class=\"dataframe\">\n",
       "  <thead>\n",
       "    <tr style=\"text-align: right;\">\n",
       "      <th></th>\n",
       "      <th>id</th>\n",
       "      <th>type</th>\n",
       "      <th>name</th>\n",
       "      <th>description</th>\n",
       "      <th>year_published</th>\n",
       "      <th>players_min</th>\n",
       "      <th>players_max</th>\n",
       "      <th>playtime</th>\n",
       "      <th>playtime_min</th>\n",
       "      <th>playtime_max</th>\n",
       "      <th>...</th>\n",
       "      <th>ratings_bayes_average</th>\n",
       "      <th>ratings_stddev</th>\n",
       "      <th>ratings_median</th>\n",
       "      <th>ratings_owned</th>\n",
       "      <th>ratings_trading</th>\n",
       "      <th>ratings_wanting</th>\n",
       "      <th>ratings_wishing</th>\n",
       "      <th>ratings_comments_n</th>\n",
       "      <th>ratings_weights_n</th>\n",
       "      <th>ratings_weights_average</th>\n",
       "    </tr>\n",
       "  </thead>\n",
       "  <tbody>\n",
       "    <tr>\n",
       "      <th>385</th>\n",
       "      <td>224083</td>\n",
       "      <td>boardgame</td>\n",
       "      <td>Trono Oscuro</td>\n",
       "      <td>None</td>\n",
       "      <td>2017</td>\n",
       "      <td>2</td>\n",
       "      <td>5</td>\n",
       "      <td>120</td>\n",
       "      <td>60</td>\n",
       "      <td>120</td>\n",
       "      <td>...</td>\n",
       "      <td>0.000</td>\n",
       "      <td>0.0000</td>\n",
       "      <td>0.0</td>\n",
       "      <td>3</td>\n",
       "      <td>0</td>\n",
       "      <td>0</td>\n",
       "      <td>1</td>\n",
       "      <td>1</td>\n",
       "      <td>0</td>\n",
       "      <td>0.0</td>\n",
       "    </tr>\n",
       "    <tr>\n",
       "      <th>7724</th>\n",
       "      <td>243593</td>\n",
       "      <td>boardgame</td>\n",
       "      <td>Bastille: Fallen Kingdoms</td>\n",
       "      <td>None</td>\n",
       "      <td>2017</td>\n",
       "      <td>3</td>\n",
       "      <td>6</td>\n",
       "      <td>1400</td>\n",
       "      <td>60</td>\n",
       "      <td>1400</td>\n",
       "      <td>...</td>\n",
       "      <td>0.000</td>\n",
       "      <td>0.0000</td>\n",
       "      <td>0.0</td>\n",
       "      <td>0</td>\n",
       "      <td>0</td>\n",
       "      <td>0</td>\n",
       "      <td>0</td>\n",
       "      <td>0</td>\n",
       "      <td>0</td>\n",
       "      <td>0.0</td>\n",
       "    </tr>\n",
       "    <tr>\n",
       "      <th>13398</th>\n",
       "      <td>146535</td>\n",
       "      <td>boardgame</td>\n",
       "      <td>Math Battleship Game</td>\n",
       "      <td>None</td>\n",
       "      <td>2013</td>\n",
       "      <td>1</td>\n",
       "      <td>0</td>\n",
       "      <td>30</td>\n",
       "      <td>30</td>\n",
       "      <td>30</td>\n",
       "      <td>...</td>\n",
       "      <td>0.000</td>\n",
       "      <td>0.0000</td>\n",
       "      <td>0.0</td>\n",
       "      <td>0</td>\n",
       "      <td>0</td>\n",
       "      <td>0</td>\n",
       "      <td>1</td>\n",
       "      <td>0</td>\n",
       "      <td>0</td>\n",
       "      <td>0.0</td>\n",
       "    </tr>\n",
       "    <tr>\n",
       "      <th>14112</th>\n",
       "      <td>320241</td>\n",
       "      <td>boardgame</td>\n",
       "      <td>Electric Orchard</td>\n",
       "      <td>None</td>\n",
       "      <td>2021</td>\n",
       "      <td>2</td>\n",
       "      <td>4</td>\n",
       "      <td>60</td>\n",
       "      <td>30</td>\n",
       "      <td>60</td>\n",
       "      <td>...</td>\n",
       "      <td>0.000</td>\n",
       "      <td>0.0000</td>\n",
       "      <td>0.0</td>\n",
       "      <td>0</td>\n",
       "      <td>0</td>\n",
       "      <td>1</td>\n",
       "      <td>2</td>\n",
       "      <td>0</td>\n",
       "      <td>0</td>\n",
       "      <td>0.0</td>\n",
       "    </tr>\n",
       "    <tr>\n",
       "      <th>19282</th>\n",
       "      <td>174579</td>\n",
       "      <td>boardgame</td>\n",
       "      <td>Ex-Machina</td>\n",
       "      <td>None</td>\n",
       "      <td>2015</td>\n",
       "      <td>2</td>\n",
       "      <td>4</td>\n",
       "      <td>10</td>\n",
       "      <td>6</td>\n",
       "      <td>10</td>\n",
       "      <td>...</td>\n",
       "      <td>0.000</td>\n",
       "      <td>0.0000</td>\n",
       "      <td>0.0</td>\n",
       "      <td>3</td>\n",
       "      <td>0</td>\n",
       "      <td>0</td>\n",
       "      <td>1</td>\n",
       "      <td>0</td>\n",
       "      <td>0</td>\n",
       "      <td>0.0</td>\n",
       "    </tr>\n",
       "    <tr>\n",
       "      <th>23952</th>\n",
       "      <td>261574</td>\n",
       "      <td>boardgame</td>\n",
       "      <td>Black Hole</td>\n",
       "      <td>None</td>\n",
       "      <td>2018</td>\n",
       "      <td>1</td>\n",
       "      <td>4</td>\n",
       "      <td>40</td>\n",
       "      <td>20</td>\n",
       "      <td>40</td>\n",
       "      <td>...</td>\n",
       "      <td>0.000</td>\n",
       "      <td>0.0000</td>\n",
       "      <td>0.0</td>\n",
       "      <td>2</td>\n",
       "      <td>0</td>\n",
       "      <td>1</td>\n",
       "      <td>0</td>\n",
       "      <td>1</td>\n",
       "      <td>0</td>\n",
       "      <td>0.0</td>\n",
       "    </tr>\n",
       "    <tr>\n",
       "      <th>24162</th>\n",
       "      <td>180869</td>\n",
       "      <td>boardgame</td>\n",
       "      <td>Off with His Straw Head</td>\n",
       "      <td>None</td>\n",
       "      <td>2015</td>\n",
       "      <td>3</td>\n",
       "      <td>5</td>\n",
       "      <td>10</td>\n",
       "      <td>10</td>\n",
       "      <td>10</td>\n",
       "      <td>...</td>\n",
       "      <td>0.000</td>\n",
       "      <td>0.0000</td>\n",
       "      <td>0.0</td>\n",
       "      <td>4</td>\n",
       "      <td>0</td>\n",
       "      <td>0</td>\n",
       "      <td>0</td>\n",
       "      <td>0</td>\n",
       "      <td>0</td>\n",
       "      <td>0.0</td>\n",
       "    </tr>\n",
       "    <tr>\n",
       "      <th>27085</th>\n",
       "      <td>112878</td>\n",
       "      <td>boardgame</td>\n",
       "      <td>Ammo Domini: Fight for Europe to the Last Bullet</td>\n",
       "      <td>None</td>\n",
       "      <td>2012</td>\n",
       "      <td>2</td>\n",
       "      <td>5</td>\n",
       "      <td>0</td>\n",
       "      <td>0</td>\n",
       "      <td>0</td>\n",
       "      <td>...</td>\n",
       "      <td>0.000</td>\n",
       "      <td>0.0000</td>\n",
       "      <td>0.0</td>\n",
       "      <td>0</td>\n",
       "      <td>0</td>\n",
       "      <td>1</td>\n",
       "      <td>12</td>\n",
       "      <td>0</td>\n",
       "      <td>0</td>\n",
       "      <td>0.0</td>\n",
       "    </tr>\n",
       "    <tr>\n",
       "      <th>28344</th>\n",
       "      <td>174577</td>\n",
       "      <td>boardgame</td>\n",
       "      <td>Into the Rabbit Hole</td>\n",
       "      <td>None</td>\n",
       "      <td>2015</td>\n",
       "      <td>2</td>\n",
       "      <td>5</td>\n",
       "      <td>15</td>\n",
       "      <td>10</td>\n",
       "      <td>15</td>\n",
       "      <td>...</td>\n",
       "      <td>0.000</td>\n",
       "      <td>0.0000</td>\n",
       "      <td>0.0</td>\n",
       "      <td>5</td>\n",
       "      <td>0</td>\n",
       "      <td>0</td>\n",
       "      <td>0</td>\n",
       "      <td>0</td>\n",
       "      <td>0</td>\n",
       "      <td>0.0</td>\n",
       "    </tr>\n",
       "    <tr>\n",
       "      <th>28357</th>\n",
       "      <td>170984</td>\n",
       "      <td>boardgame</td>\n",
       "      <td>Timeline: Sports et Loisirs</td>\n",
       "      <td>None</td>\n",
       "      <td>2014</td>\n",
       "      <td>2</td>\n",
       "      <td>8</td>\n",
       "      <td>15</td>\n",
       "      <td>15</td>\n",
       "      <td>15</td>\n",
       "      <td>...</td>\n",
       "      <td>5.533</td>\n",
       "      <td>1.6166</td>\n",
       "      <td>0.0</td>\n",
       "      <td>178</td>\n",
       "      <td>2</td>\n",
       "      <td>7</td>\n",
       "      <td>32</td>\n",
       "      <td>10</td>\n",
       "      <td>2</td>\n",
       "      <td>1.0</td>\n",
       "    </tr>\n",
       "    <tr>\n",
       "      <th>31977</th>\n",
       "      <td>66157</td>\n",
       "      <td>boardgame</td>\n",
       "      <td>CANNY Word Game</td>\n",
       "      <td>None</td>\n",
       "      <td>2010</td>\n",
       "      <td>1</td>\n",
       "      <td>6</td>\n",
       "      <td>30</td>\n",
       "      <td>30</td>\n",
       "      <td>30</td>\n",
       "      <td>...</td>\n",
       "      <td>0.000</td>\n",
       "      <td>0.0000</td>\n",
       "      <td>0.0</td>\n",
       "      <td>1</td>\n",
       "      <td>0</td>\n",
       "      <td>1</td>\n",
       "      <td>1</td>\n",
       "      <td>1</td>\n",
       "      <td>0</td>\n",
       "      <td>0.0</td>\n",
       "    </tr>\n",
       "    <tr>\n",
       "      <th>32613</th>\n",
       "      <td>174576</td>\n",
       "      <td>boardgame</td>\n",
       "      <td>Pre-Historic Marshmallow</td>\n",
       "      <td>None</td>\n",
       "      <td>2015</td>\n",
       "      <td>2</td>\n",
       "      <td>4</td>\n",
       "      <td>10</td>\n",
       "      <td>7</td>\n",
       "      <td>10</td>\n",
       "      <td>...</td>\n",
       "      <td>0.000</td>\n",
       "      <td>0.0000</td>\n",
       "      <td>0.0</td>\n",
       "      <td>4</td>\n",
       "      <td>0</td>\n",
       "      <td>0</td>\n",
       "      <td>0</td>\n",
       "      <td>0</td>\n",
       "      <td>0</td>\n",
       "      <td>0.0</td>\n",
       "    </tr>\n",
       "    <tr>\n",
       "      <th>37566</th>\n",
       "      <td>167101</td>\n",
       "      <td>boardgame</td>\n",
       "      <td>Airships of Oberon</td>\n",
       "      <td>None</td>\n",
       "      <td>2016</td>\n",
       "      <td>3</td>\n",
       "      <td>6</td>\n",
       "      <td>90</td>\n",
       "      <td>90</td>\n",
       "      <td>90</td>\n",
       "      <td>...</td>\n",
       "      <td>0.000</td>\n",
       "      <td>0.0000</td>\n",
       "      <td>0.0</td>\n",
       "      <td>0</td>\n",
       "      <td>0</td>\n",
       "      <td>4</td>\n",
       "      <td>15</td>\n",
       "      <td>1</td>\n",
       "      <td>0</td>\n",
       "      <td>0.0</td>\n",
       "    </tr>\n",
       "    <tr>\n",
       "      <th>38192</th>\n",
       "      <td>292179</td>\n",
       "      <td>boardgame</td>\n",
       "      <td>Hell Bent</td>\n",
       "      <td>None</td>\n",
       "      <td>2020</td>\n",
       "      <td>1</td>\n",
       "      <td>1</td>\n",
       "      <td>90</td>\n",
       "      <td>60</td>\n",
       "      <td>90</td>\n",
       "      <td>...</td>\n",
       "      <td>0.000</td>\n",
       "      <td>0.0000</td>\n",
       "      <td>0.0</td>\n",
       "      <td>0</td>\n",
       "      <td>0</td>\n",
       "      <td>1</td>\n",
       "      <td>4</td>\n",
       "      <td>0</td>\n",
       "      <td>0</td>\n",
       "      <td>0.0</td>\n",
       "    </tr>\n",
       "    <tr>\n",
       "      <th>39041</th>\n",
       "      <td>12546</td>\n",
       "      <td>boardgame</td>\n",
       "      <td>4th and Inches</td>\n",
       "      <td>None</td>\n",
       "      <td>1998</td>\n",
       "      <td>0</td>\n",
       "      <td>0</td>\n",
       "      <td>0</td>\n",
       "      <td>0</td>\n",
       "      <td>0</td>\n",
       "      <td>...</td>\n",
       "      <td>0.000</td>\n",
       "      <td>0.0000</td>\n",
       "      <td>0.0</td>\n",
       "      <td>1</td>\n",
       "      <td>0</td>\n",
       "      <td>0</td>\n",
       "      <td>0</td>\n",
       "      <td>0</td>\n",
       "      <td>0</td>\n",
       "      <td>0.0</td>\n",
       "    </tr>\n",
       "    <tr>\n",
       "      <th>40368</th>\n",
       "      <td>225737</td>\n",
       "      <td>boardgame</td>\n",
       "      <td>LittleStorm in all Kinds of Weather</td>\n",
       "      <td>None</td>\n",
       "      <td>2016</td>\n",
       "      <td>2</td>\n",
       "      <td>6</td>\n",
       "      <td>20</td>\n",
       "      <td>10</td>\n",
       "      <td>20</td>\n",
       "      <td>...</td>\n",
       "      <td>0.000</td>\n",
       "      <td>0.0000</td>\n",
       "      <td>0.0</td>\n",
       "      <td>1</td>\n",
       "      <td>0</td>\n",
       "      <td>0</td>\n",
       "      <td>0</td>\n",
       "      <td>1</td>\n",
       "      <td>0</td>\n",
       "      <td>0.0</td>\n",
       "    </tr>\n",
       "    <tr>\n",
       "      <th>48030</th>\n",
       "      <td>161795</td>\n",
       "      <td>boardgame</td>\n",
       "      <td>War &amp; Seas</td>\n",
       "      <td>None</td>\n",
       "      <td>2014</td>\n",
       "      <td>0</td>\n",
       "      <td>6</td>\n",
       "      <td>0</td>\n",
       "      <td>0</td>\n",
       "      <td>0</td>\n",
       "      <td>...</td>\n",
       "      <td>0.000</td>\n",
       "      <td>0.0000</td>\n",
       "      <td>0.0</td>\n",
       "      <td>1</td>\n",
       "      <td>0</td>\n",
       "      <td>0</td>\n",
       "      <td>2</td>\n",
       "      <td>1</td>\n",
       "      <td>0</td>\n",
       "      <td>0.0</td>\n",
       "    </tr>\n",
       "    <tr>\n",
       "      <th>48103</th>\n",
       "      <td>225774</td>\n",
       "      <td>boardgame</td>\n",
       "      <td>I'm In Charge</td>\n",
       "      <td>None</td>\n",
       "      <td>0</td>\n",
       "      <td>0</td>\n",
       "      <td>0</td>\n",
       "      <td>0</td>\n",
       "      <td>0</td>\n",
       "      <td>0</td>\n",
       "      <td>...</td>\n",
       "      <td>0.000</td>\n",
       "      <td>0.0000</td>\n",
       "      <td>0.0</td>\n",
       "      <td>0</td>\n",
       "      <td>0</td>\n",
       "      <td>0</td>\n",
       "      <td>0</td>\n",
       "      <td>0</td>\n",
       "      <td>0</td>\n",
       "      <td>0.0</td>\n",
       "    </tr>\n",
       "    <tr>\n",
       "      <th>52194</th>\n",
       "      <td>180439</td>\n",
       "      <td>boardgame</td>\n",
       "      <td>Let's Hike!</td>\n",
       "      <td>None</td>\n",
       "      <td>2015</td>\n",
       "      <td>2</td>\n",
       "      <td>5</td>\n",
       "      <td>15</td>\n",
       "      <td>15</td>\n",
       "      <td>15</td>\n",
       "      <td>...</td>\n",
       "      <td>0.000</td>\n",
       "      <td>0.0000</td>\n",
       "      <td>0.0</td>\n",
       "      <td>2</td>\n",
       "      <td>0</td>\n",
       "      <td>0</td>\n",
       "      <td>0</td>\n",
       "      <td>0</td>\n",
       "      <td>0</td>\n",
       "      <td>0.0</td>\n",
       "    </tr>\n",
       "    <tr>\n",
       "      <th>55955</th>\n",
       "      <td>157615</td>\n",
       "      <td>boardgame</td>\n",
       "      <td>Depredadores</td>\n",
       "      <td>None</td>\n",
       "      <td>2014</td>\n",
       "      <td>1</td>\n",
       "      <td>1</td>\n",
       "      <td>20</td>\n",
       "      <td>20</td>\n",
       "      <td>20</td>\n",
       "      <td>...</td>\n",
       "      <td>0.000</td>\n",
       "      <td>0.0000</td>\n",
       "      <td>0.0</td>\n",
       "      <td>0</td>\n",
       "      <td>0</td>\n",
       "      <td>0</td>\n",
       "      <td>1</td>\n",
       "      <td>0</td>\n",
       "      <td>0</td>\n",
       "      <td>0.0</td>\n",
       "    </tr>\n",
       "    <tr>\n",
       "      <th>64645</th>\n",
       "      <td>134103</td>\n",
       "      <td>boardgame</td>\n",
       "      <td>Village Wolves</td>\n",
       "      <td>None</td>\n",
       "      <td>2012</td>\n",
       "      <td>9</td>\n",
       "      <td>24</td>\n",
       "      <td>30</td>\n",
       "      <td>30</td>\n",
       "      <td>30</td>\n",
       "      <td>...</td>\n",
       "      <td>0.000</td>\n",
       "      <td>1.9698</td>\n",
       "      <td>0.0</td>\n",
       "      <td>43</td>\n",
       "      <td>2</td>\n",
       "      <td>1</td>\n",
       "      <td>5</td>\n",
       "      <td>10</td>\n",
       "      <td>0</td>\n",
       "      <td>0.0</td>\n",
       "    </tr>\n",
       "    <tr>\n",
       "      <th>75971</th>\n",
       "      <td>180442</td>\n",
       "      <td>boardgame</td>\n",
       "      <td>Mirror Mirror</td>\n",
       "      <td>None</td>\n",
       "      <td>2015</td>\n",
       "      <td>2</td>\n",
       "      <td>5</td>\n",
       "      <td>25</td>\n",
       "      <td>25</td>\n",
       "      <td>25</td>\n",
       "      <td>...</td>\n",
       "      <td>0.000</td>\n",
       "      <td>0.0000</td>\n",
       "      <td>0.0</td>\n",
       "      <td>2</td>\n",
       "      <td>0</td>\n",
       "      <td>0</td>\n",
       "      <td>0</td>\n",
       "      <td>0</td>\n",
       "      <td>0</td>\n",
       "      <td>0.0</td>\n",
       "    </tr>\n",
       "    <tr>\n",
       "      <th>77477</th>\n",
       "      <td>139298</td>\n",
       "      <td>boardgame</td>\n",
       "      <td>War Plan Red: North American Conflict</td>\n",
       "      <td>None</td>\n",
       "      <td>2014</td>\n",
       "      <td>2</td>\n",
       "      <td>2</td>\n",
       "      <td>120</td>\n",
       "      <td>120</td>\n",
       "      <td>120</td>\n",
       "      <td>...</td>\n",
       "      <td>0.000</td>\n",
       "      <td>0.0000</td>\n",
       "      <td>0.0</td>\n",
       "      <td>1</td>\n",
       "      <td>0</td>\n",
       "      <td>1</td>\n",
       "      <td>0</td>\n",
       "      <td>0</td>\n",
       "      <td>0</td>\n",
       "      <td>0.0</td>\n",
       "    </tr>\n",
       "    <tr>\n",
       "      <th>95247</th>\n",
       "      <td>148105</td>\n",
       "      <td>boardgame</td>\n",
       "      <td>a game of gnome: the garden of seedin'</td>\n",
       "      <td>None</td>\n",
       "      <td>2014</td>\n",
       "      <td>2</td>\n",
       "      <td>6</td>\n",
       "      <td>30</td>\n",
       "      <td>30</td>\n",
       "      <td>30</td>\n",
       "      <td>...</td>\n",
       "      <td>0.000</td>\n",
       "      <td>0.0000</td>\n",
       "      <td>0.0</td>\n",
       "      <td>1</td>\n",
       "      <td>0</td>\n",
       "      <td>0</td>\n",
       "      <td>0</td>\n",
       "      <td>0</td>\n",
       "      <td>0</td>\n",
       "      <td>0.0</td>\n",
       "    </tr>\n",
       "    <tr>\n",
       "      <th>95877</th>\n",
       "      <td>80813</td>\n",
       "      <td>boardgame</td>\n",
       "      <td>Cafe Pronto</td>\n",
       "      <td>None</td>\n",
       "      <td>2011</td>\n",
       "      <td>2</td>\n",
       "      <td>4</td>\n",
       "      <td>75</td>\n",
       "      <td>75</td>\n",
       "      <td>75</td>\n",
       "      <td>...</td>\n",
       "      <td>0.000</td>\n",
       "      <td>0.0000</td>\n",
       "      <td>0.0</td>\n",
       "      <td>0</td>\n",
       "      <td>0</td>\n",
       "      <td>0</td>\n",
       "      <td>2</td>\n",
       "      <td>1</td>\n",
       "      <td>1</td>\n",
       "      <td>3.0</td>\n",
       "    </tr>\n",
       "    <tr>\n",
       "      <th>100518</th>\n",
       "      <td>175210</td>\n",
       "      <td>boardgame</td>\n",
       "      <td>Unforgettable Flight!</td>\n",
       "      <td>None</td>\n",
       "      <td>2015</td>\n",
       "      <td>3</td>\n",
       "      <td>6</td>\n",
       "      <td>20</td>\n",
       "      <td>15</td>\n",
       "      <td>20</td>\n",
       "      <td>...</td>\n",
       "      <td>0.000</td>\n",
       "      <td>0.0000</td>\n",
       "      <td>0.0</td>\n",
       "      <td>2</td>\n",
       "      <td>0</td>\n",
       "      <td>0</td>\n",
       "      <td>0</td>\n",
       "      <td>0</td>\n",
       "      <td>0</td>\n",
       "      <td>0.0</td>\n",
       "    </tr>\n",
       "    <tr>\n",
       "      <th>104706</th>\n",
       "      <td>139953</td>\n",
       "      <td>boardgame</td>\n",
       "      <td>Autobahn</td>\n",
       "      <td>None</td>\n",
       "      <td>2013</td>\n",
       "      <td>2</td>\n",
       "      <td>4</td>\n",
       "      <td>30</td>\n",
       "      <td>30</td>\n",
       "      <td>30</td>\n",
       "      <td>...</td>\n",
       "      <td>0.000</td>\n",
       "      <td>0.0000</td>\n",
       "      <td>0.0</td>\n",
       "      <td>1</td>\n",
       "      <td>0</td>\n",
       "      <td>0</td>\n",
       "      <td>0</td>\n",
       "      <td>0</td>\n",
       "      <td>0</td>\n",
       "      <td>0.0</td>\n",
       "    </tr>\n",
       "  </tbody>\n",
       "</table>\n",
       "<p>27 rows × 23 columns</p>\n",
       "</div>"
      ],
      "text/plain": [
       "            id       type                                              name  \\\n",
       "385     224083  boardgame                                      Trono Oscuro   \n",
       "7724    243593  boardgame                         Bastille: Fallen Kingdoms   \n",
       "13398   146535  boardgame                              Math Battleship Game   \n",
       "14112   320241  boardgame                                  Electric Orchard   \n",
       "19282   174579  boardgame                                        Ex-Machina   \n",
       "23952   261574  boardgame                                        Black Hole   \n",
       "24162   180869  boardgame                           Off with His Straw Head   \n",
       "27085   112878  boardgame  Ammo Domini: Fight for Europe to the Last Bullet   \n",
       "28344   174577  boardgame                              Into the Rabbit Hole   \n",
       "28357   170984  boardgame                       Timeline: Sports et Loisirs   \n",
       "31977    66157  boardgame                                   CANNY Word Game   \n",
       "32613   174576  boardgame                          Pre-Historic Marshmallow   \n",
       "37566   167101  boardgame                                Airships of Oberon   \n",
       "38192   292179  boardgame                                         Hell Bent   \n",
       "39041    12546  boardgame                                    4th and Inches   \n",
       "40368   225737  boardgame               LittleStorm in all Kinds of Weather   \n",
       "48030   161795  boardgame                                        War & Seas   \n",
       "48103   225774  boardgame                                     I'm In Charge   \n",
       "52194   180439  boardgame                                       Let's Hike!   \n",
       "55955   157615  boardgame                                      Depredadores   \n",
       "64645   134103  boardgame                                    Village Wolves   \n",
       "75971   180442  boardgame                                     Mirror Mirror   \n",
       "77477   139298  boardgame             War Plan Red: North American Conflict   \n",
       "95247   148105  boardgame            a game of gnome: the garden of seedin'   \n",
       "95877    80813  boardgame                                       Cafe Pronto   \n",
       "100518  175210  boardgame                             Unforgettable Flight!   \n",
       "104706  139953  boardgame                                          Autobahn   \n",
       "\n",
       "       description  year_published  players_min  players_max  playtime  \\\n",
       "385           None            2017            2            5       120   \n",
       "7724          None            2017            3            6      1400   \n",
       "13398         None            2013            1            0        30   \n",
       "14112         None            2021            2            4        60   \n",
       "19282         None            2015            2            4        10   \n",
       "23952         None            2018            1            4        40   \n",
       "24162         None            2015            3            5        10   \n",
       "27085         None            2012            2            5         0   \n",
       "28344         None            2015            2            5        15   \n",
       "28357         None            2014            2            8        15   \n",
       "31977         None            2010            1            6        30   \n",
       "32613         None            2015            2            4        10   \n",
       "37566         None            2016            3            6        90   \n",
       "38192         None            2020            1            1        90   \n",
       "39041         None            1998            0            0         0   \n",
       "40368         None            2016            2            6        20   \n",
       "48030         None            2014            0            6         0   \n",
       "48103         None               0            0            0         0   \n",
       "52194         None            2015            2            5        15   \n",
       "55955         None            2014            1            1        20   \n",
       "64645         None            2012            9           24        30   \n",
       "75971         None            2015            2            5        25   \n",
       "77477         None            2014            2            2       120   \n",
       "95247         None            2014            2            6        30   \n",
       "95877         None            2011            2            4        75   \n",
       "100518        None            2015            3            6        20   \n",
       "104706        None            2013            2            4        30   \n",
       "\n",
       "        playtime_min  playtime_max  ...  ratings_bayes_average  \\\n",
       "385               60           120  ...                  0.000   \n",
       "7724              60          1400  ...                  0.000   \n",
       "13398             30            30  ...                  0.000   \n",
       "14112             30            60  ...                  0.000   \n",
       "19282              6            10  ...                  0.000   \n",
       "23952             20            40  ...                  0.000   \n",
       "24162             10            10  ...                  0.000   \n",
       "27085              0             0  ...                  0.000   \n",
       "28344             10            15  ...                  0.000   \n",
       "28357             15            15  ...                  5.533   \n",
       "31977             30            30  ...                  0.000   \n",
       "32613              7            10  ...                  0.000   \n",
       "37566             90            90  ...                  0.000   \n",
       "38192             60            90  ...                  0.000   \n",
       "39041              0             0  ...                  0.000   \n",
       "40368             10            20  ...                  0.000   \n",
       "48030              0             0  ...                  0.000   \n",
       "48103              0             0  ...                  0.000   \n",
       "52194             15            15  ...                  0.000   \n",
       "55955             20            20  ...                  0.000   \n",
       "64645             30            30  ...                  0.000   \n",
       "75971             25            25  ...                  0.000   \n",
       "77477            120           120  ...                  0.000   \n",
       "95247             30            30  ...                  0.000   \n",
       "95877             75            75  ...                  0.000   \n",
       "100518            15            20  ...                  0.000   \n",
       "104706            30            30  ...                  0.000   \n",
       "\n",
       "        ratings_stddev  ratings_median  ratings_owned  ratings_trading  \\\n",
       "385             0.0000             0.0              3                0   \n",
       "7724            0.0000             0.0              0                0   \n",
       "13398           0.0000             0.0              0                0   \n",
       "14112           0.0000             0.0              0                0   \n",
       "19282           0.0000             0.0              3                0   \n",
       "23952           0.0000             0.0              2                0   \n",
       "24162           0.0000             0.0              4                0   \n",
       "27085           0.0000             0.0              0                0   \n",
       "28344           0.0000             0.0              5                0   \n",
       "28357           1.6166             0.0            178                2   \n",
       "31977           0.0000             0.0              1                0   \n",
       "32613           0.0000             0.0              4                0   \n",
       "37566           0.0000             0.0              0                0   \n",
       "38192           0.0000             0.0              0                0   \n",
       "39041           0.0000             0.0              1                0   \n",
       "40368           0.0000             0.0              1                0   \n",
       "48030           0.0000             0.0              1                0   \n",
       "48103           0.0000             0.0              0                0   \n",
       "52194           0.0000             0.0              2                0   \n",
       "55955           0.0000             0.0              0                0   \n",
       "64645           1.9698             0.0             43                2   \n",
       "75971           0.0000             0.0              2                0   \n",
       "77477           0.0000             0.0              1                0   \n",
       "95247           0.0000             0.0              1                0   \n",
       "95877           0.0000             0.0              0                0   \n",
       "100518          0.0000             0.0              2                0   \n",
       "104706          0.0000             0.0              1                0   \n",
       "\n",
       "        ratings_wanting  ratings_wishing  ratings_comments_n  \\\n",
       "385                   0                1                   1   \n",
       "7724                  0                0                   0   \n",
       "13398                 0                1                   0   \n",
       "14112                 1                2                   0   \n",
       "19282                 0                1                   0   \n",
       "23952                 1                0                   1   \n",
       "24162                 0                0                   0   \n",
       "27085                 1               12                   0   \n",
       "28344                 0                0                   0   \n",
       "28357                 7               32                  10   \n",
       "31977                 1                1                   1   \n",
       "32613                 0                0                   0   \n",
       "37566                 4               15                   1   \n",
       "38192                 1                4                   0   \n",
       "39041                 0                0                   0   \n",
       "40368                 0                0                   1   \n",
       "48030                 0                2                   1   \n",
       "48103                 0                0                   0   \n",
       "52194                 0                0                   0   \n",
       "55955                 0                1                   0   \n",
       "64645                 1                5                  10   \n",
       "75971                 0                0                   0   \n",
       "77477                 1                0                   0   \n",
       "95247                 0                0                   0   \n",
       "95877                 0                2                   1   \n",
       "100518                0                0                   0   \n",
       "104706                0                0                   0   \n",
       "\n",
       "        ratings_weights_n  ratings_weights_average  \n",
       "385                     0                      0.0  \n",
       "7724                    0                      0.0  \n",
       "13398                   0                      0.0  \n",
       "14112                   0                      0.0  \n",
       "19282                   0                      0.0  \n",
       "23952                   0                      0.0  \n",
       "24162                   0                      0.0  \n",
       "27085                   0                      0.0  \n",
       "28344                   0                      0.0  \n",
       "28357                   2                      1.0  \n",
       "31977                   0                      0.0  \n",
       "32613                   0                      0.0  \n",
       "37566                   0                      0.0  \n",
       "38192                   0                      0.0  \n",
       "39041                   0                      0.0  \n",
       "40368                   0                      0.0  \n",
       "48030                   0                      0.0  \n",
       "48103                   0                      0.0  \n",
       "52194                   0                      0.0  \n",
       "55955                   0                      0.0  \n",
       "64645                   0                      0.0  \n",
       "75971                   0                      0.0  \n",
       "77477                   0                      0.0  \n",
       "95247                   0                      0.0  \n",
       "95877                   1                      3.0  \n",
       "100518                  0                      0.0  \n",
       "104706                  0                      0.0  \n",
       "\n",
       "[27 rows x 23 columns]"
      ]
     },
     "metadata": {},
     "output_type": "display_data"
    },
    {
     "name": "stdout",
     "output_type": "stream",
     "text": [
      "\n",
      "\n",
      "\n",
      "LINKS\n",
      "=====\n"
     ]
    },
    {
     "data": {
      "text/html": [
       "<a href=https://boardgamegeek.com/boardgame/224083>ID: 224083 </a>"
      ],
      "text/plain": [
       "<IPython.core.display.HTML object>"
      ]
     },
     "metadata": {},
     "output_type": "display_data"
    }
   ],
   "source": [
    "null_desc = gen_df[gen_df['description'].isnull()]\n",
    "display(null_desc)\n",
    "au.print_spacer()\n",
    "au.print_titled_text('links')\n",
    "au.display_id_link(null_desc['id'].iloc[0])"
   ]
  },
  {
   "cell_type": "markdown",
   "id": "2a2fd02c-39e6-49ad-bc94-d6627a02e0c0",
   "metadata": {},
   "source": [
    "#### Duplication check"
   ]
  },
  {
   "cell_type": "code",
   "execution_count": 6,
   "id": "fa0ff55b-0956-4249-9624-4e8ee628443a",
   "metadata": {},
   "outputs": [
    {
     "name": "stdout",
     "output_type": "stream",
     "text": [
      "DUPLICATED ROWS\n",
      "===============\n"
     ]
    },
    {
     "data": {
      "text/plain": [
       "0"
      ]
     },
     "execution_count": 6,
     "metadata": {},
     "output_type": "execute_result"
    }
   ],
   "source": [
    "au.print_titled_text('Duplicated rows')\n",
    "gen_df.duplicated().sum()"
   ]
  },
  {
   "cell_type": "markdown",
   "id": "080e228c-95f0-4956-ba3d-dfa61da8d622",
   "metadata": {},
   "source": [
    "### Individual Variable Overview\n",
    "\n",
    "In this section, we take a look at each variable outputting summary plots as needed."
   ]
  },
  {
   "cell_type": "markdown",
   "id": "62922f5a-0b0a-49ef-9e13-94c7042c72e4",
   "metadata": {},
   "source": [
    "#### `id`\n",
    "\n",
    "Each boardgame has a unique id associated with it. Binning the ids shows that there are more \"missing\" ids not in the dataset (i.e. with bin widths of 10000, bin counts don't reach 10000). Since we only downloaded boardgames from the Board Game Geek server, the missing ids presumably do not belong to board game items. The rate of missing ids increases around `id` ~ 50000 when the ids are ordered sequentially."
   ]
  },
  {
   "cell_type": "code",
   "execution_count": 101,
   "id": "18b73d9f-a81c-4a9e-96ff-f70707076100",
   "metadata": {},
   "outputs": [
    {
     "data": {
      "text/plain": [
       "count    108015.000000\n",
       "mean     144502.139046\n",
       "std      116161.241706\n",
       "min           1.000000\n",
       "25%       31041.500000\n",
       "50%      129564.000000\n",
       "75%      247799.500000\n",
       "max      362381.000000\n",
       "Name: id, dtype: float64"
      ]
     },
     "execution_count": 101,
     "metadata": {},
     "output_type": "execute_result"
    }
   ],
   "source": [
    "# Descriptive stats\n",
    "gen_df.id.describe()"
   ]
  },
  {
   "cell_type": "code",
   "execution_count": 102,
   "id": "56a42611-6d46-4037-8a40-8ac438934b53",
   "metadata": {},
   "outputs": [
    {
     "data": {
      "image/png": "[encoded data removed]",
      "text/plain": [
       "<Figure size 640x360 with 2 Axes>"
      ]
     },
     "metadata": {
      "needs_background": "light"
     },
     "output_type": "display_data"
    }
   ],
   "source": [
    "# Plot histogram counts and ecdf\n",
    "g = sns.displot(data=gen_df,\n",
    "            x='id',\n",
    "            binwidth=10_000,\n",
    "            height=HEIGHT_STANDARD,\n",
    "            aspect=ASPECT_WIDE);\n",
    "\n",
    "ax2 = g.ax.twinx()\n",
    "\n",
    "sns.ecdfplot(ax=ax2,\n",
    "             data=gen_df,\n",
    "             x='id'\n",
    "            );\n",
    "\n",
    "g.set(title='Counts and cumulative distribution of `id`');\n",
    "\n",
    "\n"
   ]
  },
  {
   "cell_type": "markdown",
   "id": "6662a16b-2e1a-4207-ae4e-bd8b8bd5530a",
   "metadata": {},
   "source": [
    "The plot shows how many missing ids are between each sequentially ordered id. An `id_diff` of `1` indicates no id is missing between a pair of ids. The maximium difference is 197."
   ]
  },
  {
   "cell_type": "code",
   "execution_count": 104,
   "id": "5a2e402f-135e-4f30-b56b-2ecb22cb0f24",
   "metadata": {},
   "outputs": [
    {
     "name": "stdout",
     "output_type": "stream",
     "text": [
      "count    108014.000000\n",
      "mean          3.354935\n",
      "std           5.792682\n",
      "min           1.000000\n",
      "25%           1.000000\n",
      "50%           1.000000\n",
      "75%           3.000000\n",
      "max         197.000000\n",
      "Name: id_diff, dtype: float64\n"
     ]
    },
    {
     "data": {
      "image/png": "[encoded data removed]",
      "text/plain": [
       "<Figure size 960x540 with 1 Axes>"
      ]
     },
     "metadata": {
      "needs_background": "light"
     },
     "output_type": "display_data"
    }
   ],
   "source": [
    "# Compute difference between an id and its preceding id.\n",
    "# I.e., a diff > 1 indicates a missing id number\n",
    "def make_id_diffs(df: pd.DataFrame,\n",
    "                  id_key: str = 'id',\n",
    "                  diffs_key: str = 'id_diff',\n",
    "                  name_key: str = 'name') -> pd.DataFrame:\n",
    "    ids_sorted = df[[id_key, name_key]].sort_values(by=id_key)\n",
    "    ids_diff = ids_sorted[id_key].diff()\n",
    "    out = pd.concat([ids_sorted, ids_diff],\n",
    "                    axis=1,\n",
    "                    ignore_index=True)\n",
    "    out.columns = [id_key, name_key, diffs_key]\n",
    "    return out\n",
    "\n",
    "\n",
    "id_diffs = make_id_diffs(gen_df)\n",
    "g = sns.relplot(data=id_diffs,\n",
    "            x='id',\n",
    "            y='id_diff',\n",
    "            kind='scatter',\n",
    "            height=HEIGHT_STANDARD*1.5,\n",
    "            aspect=ASPECT_WIDE,\n",
    "            linewidth=0.05,\n",
    "            s=10,\n",
    "            );\n",
    "g.set(yscale='log');\n",
    "\n",
    "g.set(title=\"id differences between sequentially ordered ids\");\n",
    "\n",
    "print(id_diffs['id_diff'].describe())\n",
    "\n"
   ]
  },
  {
   "cell_type": "markdown",
   "id": "99d308c3-d212-4d44-8e20-eb32be508fa7",
   "metadata": {},
   "source": [
    "A cursory sampling of the missing ids suggests that missing ids < ~50000 are from board game expansions (e.g.24714), whereas those > ~ 50000 include various other objects including tabletop rpg ruleset books (e.g. 337080) and video games (e.g. 240813). Missings ids also include ids that are no longer assigned to any item (e.g. 20723), redirects (e.g. 9517 redirects to 2065).\n",
    "\n",
    "This suggest that BGG changed policy about what items they would track around id ~ 50000."
   ]
  },
  {
   "cell_type": "code",
   "execution_count": 105,
   "id": "b73c661c-da63-437c-a9c7-06e026f5e7c2",
   "metadata": {},
   "outputs": [
    {
     "name": "stdout",
     "output_type": "stream",
     "text": [
      "EARLY IDS\n",
      "=========\n"
     ]
    },
    {
     "data": {
      "text/html": [
       "<a href=https://boardgamegeek.com/boardgame/20723>ID: 20723 </a>"
      ],
      "text/plain": [
       "<IPython.core.display.HTML object>"
      ]
     },
     "metadata": {},
     "output_type": "display_data"
    },
    {
     "data": {
      "text/html": [
       "<a href=https://boardgamegeek.com/boardgame/9517>ID: 9517 </a>"
      ],
      "text/plain": [
       "<IPython.core.display.HTML object>"
      ]
     },
     "metadata": {},
     "output_type": "display_data"
    },
    {
     "data": {
      "text/html": [
       "<a href=https://boardgamegeek.com/boardgame/24714>ID: 24714 </a>"
      ],
      "text/plain": [
       "<IPython.core.display.HTML object>"
      ]
     },
     "metadata": {},
     "output_type": "display_data"
    },
    {
     "data": {
      "text/html": [
       "<a href=https://boardgamegeek.com/boardgame/2807>ID: 2807 </a>"
      ],
      "text/plain": [
       "<IPython.core.display.HTML object>"
      ]
     },
     "metadata": {},
     "output_type": "display_data"
    },
    {
     "data": {
      "text/html": [
       "<a href=https://boardgamegeek.com/boardgame/4463>ID: 4463 </a>"
      ],
      "text/plain": [
       "<IPython.core.display.HTML object>"
      ]
     },
     "metadata": {},
     "output_type": "display_data"
    },
    {
     "name": "stdout",
     "output_type": "stream",
     "text": [
      "LATER IDS\n",
      "=========\n"
     ]
    },
    {
     "data": {
      "text/html": [
       "<a href=https://boardgamegeek.com/boardgame/337080>ID: 337080 </a>"
      ],
      "text/plain": [
       "<IPython.core.display.HTML object>"
      ]
     },
     "metadata": {},
     "output_type": "display_data"
    },
    {
     "data": {
      "text/html": [
       "<a href=https://boardgamegeek.com/boardgame/240813>ID: 240813 </a>"
      ],
      "text/plain": [
       "<IPython.core.display.HTML object>"
      ]
     },
     "metadata": {},
     "output_type": "display_data"
    },
    {
     "data": {
      "text/html": [
       "<a href=https://boardgamegeek.com/boardgame/90822>ID: 90822 </a>"
      ],
      "text/plain": [
       "<IPython.core.display.HTML object>"
      ]
     },
     "metadata": {},
     "output_type": "display_data"
    },
    {
     "data": {
      "text/html": [
       "<a href=https://boardgamegeek.com/boardgame/185637>ID: 185637 </a>"
      ],
      "text/plain": [
       "<IPython.core.display.HTML object>"
      ]
     },
     "metadata": {},
     "output_type": "display_data"
    },
    {
     "data": {
      "text/html": [
       "<a href=https://boardgamegeek.com/boardgame/256252>ID: 256252 </a>"
      ],
      "text/plain": [
       "<IPython.core.display.HTML object>"
      ]
     },
     "metadata": {},
     "output_type": "display_data"
    }
   ],
   "source": [
    "# Display links for a sampling of missing ids before and after id == 50000\n",
    "missing_ids = set([i for i in range(1, gen_df['id'].max())]) - set(gen_df['id'])\n",
    "assert len(missing_ids) == (gen_df['id'].max() - gen_df.shape[0])\n",
    "\n",
    "random.seed(7)\n",
    "au.print_titled_text(\"Early ids\")\n",
    "for i in random.sample([e for e in missing_ids if e < 40000], 5):\n",
    "    au.display_id_link(i)\n",
    "au.print_titled_text(\"Later ids\")\n",
    "for i in random.sample([e for e in missing_ids if e > 60000], 5):\n",
    "    au.display_id_link(i)"
   ]
  },
  {
   "cell_type": "markdown",
   "id": "06d74828-20a3-4882-a381-9f1c08ad8d54",
   "metadata": {},
   "source": [
    "#### `type`\n",
    "\n",
    "Only items of type `boardgame` were downloaded from the server, (excluding boardgame expansions and accessories), so having only one type here is expected."
   ]
  },
  {
   "cell_type": "code",
   "execution_count": 106,
   "id": "0514834e-68df-44e0-9bb9-238fb90e366d",
   "metadata": {},
   "outputs": [
    {
     "data": {
      "text/plain": [
       "boardgame    108015\n",
       "Name: type, dtype: int64"
      ]
     },
     "execution_count": 106,
     "metadata": {},
     "output_type": "execute_result"
    }
   ],
   "source": [
    "gen_df['type'].value_counts()"
   ]
  },
  {
   "cell_type": "markdown",
   "id": "d91719b3-4d10-499e-9468-f568e71ed6b4",
   "metadata": {},
   "source": [
    "#### `year_published`\n",
    "\n",
    "\n",
    "Publication years for board games extend from -3500 to 2026, with most games being published since the year 2000.\n",
    "\n",
    "There is a large number of games annotated with the publication year as 0.\n"
   ]
  },
  {
   "cell_type": "code",
   "execution_count": 176,
   "id": "9628cb4b-e33b-45b1-a4b5-448e4aaf53b8",
   "metadata": {},
   "outputs": [
    {
     "name": "stdout",
     "output_type": "stream",
     "text": [
      "count    108015.000000\n",
      "mean       1826.884525\n",
      "std         567.429968\n",
      "min       -3500.000000\n",
      "25%        1988.000000\n",
      "50%        2008.000000\n",
      "75%        2016.000000\n",
      "max        2026.000000\n",
      "Name: year_published, dtype: float64\n"
     ]
    },
    {
     "data": {
      "image/png": "[encoded data removed]",
      "text/plain": [
       "<Figure size 640x360 with 1 Axes>"
      ]
     },
     "metadata": {
      "needs_background": "light"
     },
     "output_type": "display_data"
    },
    {
     "data": {
      "image/png": "[encoded data removed]",
      "text/plain": [
       "<Figure size 640x360 with 1 Axes>"
      ]
     },
     "metadata": {
      "needs_background": "light"
     },
     "output_type": "display_data"
    },
    {
     "data": {
      "image/png": "[encoded data removed]",
      "text/plain": [
       "<Figure size 640x360 with 1 Axes>"
      ]
     },
     "metadata": {
      "needs_background": "light"
     },
     "output_type": "display_data"
    }
   ],
   "source": [
    "print(gen_df['year_published'].describe())\n",
    "\n",
    "# Games by year published\n",
    "g = sns.displot(data=gen_df,\n",
    "                x='year_published',\n",
    "                binwidth=100,\n",
    "                height=HEIGHT_STANDARD,\n",
    "                aspect=ASPECT_WIDE,);\n",
    "\n",
    "g.set(title=\"year_published histogram\");\n",
    "\n",
    "# Games by year published, log scale\n",
    "g = sns.displot(data=gen_df,\n",
    "                x='year_published',\n",
    "                binwidth=100,\n",
    "                log_scale=(False, True),\n",
    "                height=HEIGHT_STANDARD,\n",
    "                aspect=ASPECT_WIDE,);\n",
    "\n",
    "g.set(title=\"year_published histogram (log scale y)\");\n",
    "\n",
    "# Zoom in on games since 1800\n",
    "gt_year = 1800\n",
    "g = sns.displot(data=gen_df.query(f\"year_published > {gt_year}\"),\n",
    "                x='year_published',\n",
    "                binwidth=1,\n",
    "                height=HEIGHT_STANDARD,\n",
    "                aspect=ASPECT_WIDE,);\n",
    "\n",
    "g.set(title=f\"year_published > {gt_year} histogram\");"
   ]
  },
  {
   "cell_type": "markdown",
   "id": "176a1edb-4bc0-4114-a12b-2dad3b2526db",
   "metadata": {},
   "source": [
    "Games annotated with a publication year of zero comprise ~9% of the dataset.\n",
    "\n",
    "These games appear to actually be modern games using `0` as missing value placeholder."
   ]
  },
  {
   "cell_type": "code",
   "execution_count": 194,
   "id": "5cc769aa-e4b9-45a9-b150-356372f5061e",
   "metadata": {},
   "outputs": [
    {
     "name": "stdout",
     "output_type": "stream",
     "text": [
      "PERCENTAGE YEAR_PUBLISHED == 0\n",
      "==============================\n",
      "8.7%\n",
      "\n",
      "\n",
      "\n",
      "YEAR_PUBLISHED == 0 HEAD\n",
      "========================\n"
     ]
    },
    {
     "data": {
      "text/html": [
       "<div>\n",
       "<style scoped>\n",
       "    .dataframe tbody tr th:only-of-type {\n",
       "        vertical-align: middle;\n",
       "    }\n",
       "\n",
       "    .dataframe tbody tr th {\n",
       "        vertical-align: top;\n",
       "    }\n",
       "\n",
       "    .dataframe thead th {\n",
       "        text-align: right;\n",
       "    }\n",
       "</style>\n",
       "<table border=\"1\" class=\"dataframe\">\n",
       "  <thead>\n",
       "    <tr style=\"text-align: right;\">\n",
       "      <th></th>\n",
       "      <th>id</th>\n",
       "      <th>type</th>\n",
       "      <th>name</th>\n",
       "      <th>description</th>\n",
       "      <th>year_published</th>\n",
       "      <th>players_min</th>\n",
       "      <th>players_max</th>\n",
       "      <th>playtime</th>\n",
       "      <th>playtime_min</th>\n",
       "      <th>playtime_max</th>\n",
       "      <th>...</th>\n",
       "      <th>ratings_bayes_average</th>\n",
       "      <th>ratings_stddev</th>\n",
       "      <th>ratings_median</th>\n",
       "      <th>ratings_owned</th>\n",
       "      <th>ratings_trading</th>\n",
       "      <th>ratings_wanting</th>\n",
       "      <th>ratings_wishing</th>\n",
       "      <th>ratings_comments_n</th>\n",
       "      <th>ratings_weights_n</th>\n",
       "      <th>ratings_weights_average</th>\n",
       "    </tr>\n",
       "  </thead>\n",
       "  <tbody>\n",
       "    <tr>\n",
       "      <th>7</th>\n",
       "      <td>304743</td>\n",
       "      <td>boardgame</td>\n",
       "      <td>Absolute Dice: Word</td>\n",
       "      <td>Fun Word version of the original Absolute Dice...</td>\n",
       "      <td>0</td>\n",
       "      <td>0</td>\n",
       "      <td>0</td>\n",
       "      <td>0</td>\n",
       "      <td>0</td>\n",
       "      <td>0</td>\n",
       "      <td>...</td>\n",
       "      <td>0.000</td>\n",
       "      <td>0.0000</td>\n",
       "      <td>0.0</td>\n",
       "      <td>3</td>\n",
       "      <td>0</td>\n",
       "      <td>0</td>\n",
       "      <td>0</td>\n",
       "      <td>1</td>\n",
       "      <td>0</td>\n",
       "      <td>0.000</td>\n",
       "    </tr>\n",
       "    <tr>\n",
       "      <th>12</th>\n",
       "      <td>10502</td>\n",
       "      <td>boardgame</td>\n",
       "      <td>Poker Dice</td>\n",
       "      <td>Poker Dice is a dice game using five (5) speci...</td>\n",
       "      <td>0</td>\n",
       "      <td>2</td>\n",
       "      <td>12</td>\n",
       "      <td>10</td>\n",
       "      <td>10</td>\n",
       "      <td>10</td>\n",
       "      <td>...</td>\n",
       "      <td>5.394</td>\n",
       "      <td>1.7863</td>\n",
       "      <td>0.0</td>\n",
       "      <td>1040</td>\n",
       "      <td>13</td>\n",
       "      <td>7</td>\n",
       "      <td>20</td>\n",
       "      <td>177</td>\n",
       "      <td>54</td>\n",
       "      <td>1.259</td>\n",
       "    </tr>\n",
       "    <tr>\n",
       "      <th>16</th>\n",
       "      <td>316761</td>\n",
       "      <td>boardgame</td>\n",
       "      <td>Skull Lantern</td>\n",
       "      <td>Skull Lantern is based on the fairy tale of Ba...</td>\n",
       "      <td>0</td>\n",
       "      <td>1</td>\n",
       "      <td>4</td>\n",
       "      <td>30</td>\n",
       "      <td>30</td>\n",
       "      <td>30</td>\n",
       "      <td>...</td>\n",
       "      <td>0.000</td>\n",
       "      <td>0.0000</td>\n",
       "      <td>0.0</td>\n",
       "      <td>0</td>\n",
       "      <td>0</td>\n",
       "      <td>0</td>\n",
       "      <td>0</td>\n",
       "      <td>0</td>\n",
       "      <td>0</td>\n",
       "      <td>0.000</td>\n",
       "    </tr>\n",
       "    <tr>\n",
       "      <th>37</th>\n",
       "      <td>20333</td>\n",
       "      <td>boardgame</td>\n",
       "      <td>LSUopoly</td>\n",
       "      <td>The Game Includes:\\n\\nTokens:\\nAlarm Clock, Pe...</td>\n",
       "      <td>0</td>\n",
       "      <td>2</td>\n",
       "      <td>5</td>\n",
       "      <td>120</td>\n",
       "      <td>120</td>\n",
       "      <td>120</td>\n",
       "      <td>...</td>\n",
       "      <td>0.000</td>\n",
       "      <td>0.4714</td>\n",
       "      <td>0.0</td>\n",
       "      <td>12</td>\n",
       "      <td>0</td>\n",
       "      <td>0</td>\n",
       "      <td>0</td>\n",
       "      <td>1</td>\n",
       "      <td>0</td>\n",
       "      <td>0.000</td>\n",
       "    </tr>\n",
       "    <tr>\n",
       "      <th>38</th>\n",
       "      <td>72761</td>\n",
       "      <td>boardgame</td>\n",
       "      <td>Fragments</td>\n",
       "      <td>A 1920s party game in which participants hunt ...</td>\n",
       "      <td>0</td>\n",
       "      <td>0</td>\n",
       "      <td>0</td>\n",
       "      <td>0</td>\n",
       "      <td>0</td>\n",
       "      <td>0</td>\n",
       "      <td>...</td>\n",
       "      <td>0.000</td>\n",
       "      <td>0.0000</td>\n",
       "      <td>0.0</td>\n",
       "      <td>0</td>\n",
       "      <td>0</td>\n",
       "      <td>0</td>\n",
       "      <td>1</td>\n",
       "      <td>0</td>\n",
       "      <td>0</td>\n",
       "      <td>0.000</td>\n",
       "    </tr>\n",
       "  </tbody>\n",
       "</table>\n",
       "<p>5 rows × 23 columns</p>\n",
       "</div>"
      ],
      "text/plain": [
       "        id       type                 name  \\\n",
       "7   304743  boardgame  Absolute Dice: Word   \n",
       "12   10502  boardgame           Poker Dice   \n",
       "16  316761  boardgame        Skull Lantern   \n",
       "37   20333  boardgame             LSUopoly   \n",
       "38   72761  boardgame            Fragments   \n",
       "\n",
       "                                          description  year_published  \\\n",
       "7   Fun Word version of the original Absolute Dice...               0   \n",
       "12  Poker Dice is a dice game using five (5) speci...               0   \n",
       "16  Skull Lantern is based on the fairy tale of Ba...               0   \n",
       "37  The Game Includes:\\n\\nTokens:\\nAlarm Clock, Pe...               0   \n",
       "38  A 1920s party game in which participants hunt ...               0   \n",
       "\n",
       "    players_min  players_max  playtime  playtime_min  playtime_max  ...  \\\n",
       "7             0            0         0             0             0  ...   \n",
       "12            2           12        10            10            10  ...   \n",
       "16            1            4        30            30            30  ...   \n",
       "37            2            5       120           120           120  ...   \n",
       "38            0            0         0             0             0  ...   \n",
       "\n",
       "    ratings_bayes_average  ratings_stddev  ratings_median  ratings_owned  \\\n",
       "7                   0.000          0.0000             0.0              3   \n",
       "12                  5.394          1.7863             0.0           1040   \n",
       "16                  0.000          0.0000             0.0              0   \n",
       "37                  0.000          0.4714             0.0             12   \n",
       "38                  0.000          0.0000             0.0              0   \n",
       "\n",
       "    ratings_trading  ratings_wanting  ratings_wishing  ratings_comments_n  \\\n",
       "7                 0                0                0                   1   \n",
       "12               13                7               20                 177   \n",
       "16                0                0                0                   0   \n",
       "37                0                0                0                   1   \n",
       "38                0                0                1                   0   \n",
       "\n",
       "    ratings_weights_n  ratings_weights_average  \n",
       "7                   0                    0.000  \n",
       "12                 54                    1.259  \n",
       "16                  0                    0.000  \n",
       "37                  0                    0.000  \n",
       "38                  0                    0.000  \n",
       "\n",
       "[5 rows x 23 columns]"
      ]
     },
     "metadata": {},
     "output_type": "display_data"
    },
    {
     "name": "stdout",
     "output_type": "stream",
     "text": [
      "\n",
      "\n",
      "\n",
      "SAMPLE YEAR_PUBLISHED == 0\n",
      "==========================\n"
     ]
    },
    {
     "data": {
      "text/html": [
       "<a href=https://boardgamegeek.com/boardgame/280059>ID: 280059 Royal Gardeners</a>"
      ],
      "text/plain": [
       "<IPython.core.display.HTML object>"
      ]
     },
     "metadata": {},
     "output_type": "display_data"
    },
    {
     "data": {
      "text/html": [
       "<a href=https://boardgamegeek.com/boardgame/252074>ID: 252074 Grand Slam Baseball VCR Game</a>"
      ],
      "text/plain": [
       "<IPython.core.display.HTML object>"
      ]
     },
     "metadata": {},
     "output_type": "display_data"
    },
    {
     "data": {
      "text/html": [
       "<a href=https://boardgamegeek.com/boardgame/65496>ID: 65496 Dinosaur Decisions</a>"
      ],
      "text/plain": [
       "<IPython.core.display.HTML object>"
      ]
     },
     "metadata": {},
     "output_type": "display_data"
    },
    {
     "data": {
      "text/html": [
       "<a href=https://boardgamegeek.com/boardgame/25353>ID: 25353 American Trivia Challenge California Style</a>"
      ],
      "text/plain": [
       "<IPython.core.display.HTML object>"
      ]
     },
     "metadata": {},
     "output_type": "display_data"
    },
    {
     "data": {
      "text/html": [
       "<a href=https://boardgamegeek.com/boardgame/35735>ID: 35735 Destination Sheffield</a>"
      ],
      "text/plain": [
       "<IPython.core.display.HTML object>"
      ]
     },
     "metadata": {},
     "output_type": "display_data"
    }
   ],
   "source": [
    "year_published_zero = (gen_df.query(\"year_published == 0\"))\n",
    "\n",
    "# Proportion of games at year_published == 0\n",
    "au.print_titled_text(\"Percentage year_published == 0\")\n",
    "print(f\"{(gen_df.year_published == 0).mean():.1%}\")\n",
    "\n",
    "# Head of these games\n",
    "au.print_spacer()\n",
    "au.print_titled_text(\"year_published == 0 head\")\n",
    "display(year_published_zero.head())\n",
    "\n",
    "# Sampling these games\n",
    "au.print_spacer()\n",
    "au.print_titled_text(\"Sample year_published == 0\")\n",
    "au.display_id_links_from_df(year_published_zero.sample(5, random_state=7))\n"
   ]
  },
  {
   "cell_type": "markdown",
   "id": "f1a2e1e7-7bcb-427f-b774-b52c332a95bb",
   "metadata": {},
   "source": [
    "Removing these games, we confirm that the overwhelming majority of games are published in the 20th century, with over half since 2010."
   ]
  },
  {
   "cell_type": "code",
   "execution_count": 211,
   "id": "389aa558-1062-4ee3-aa7c-40b5c29d8009",
   "metadata": {},
   "outputs": [
    {
     "data": {
      "text/plain": [
       "0    1991\n",
       "1    2021\n",
       "2    1972\n",
       "3    1975\n",
       "4    2018\n",
       "Name: year_published, dtype: int64"
      ]
     },
     "execution_count": 211,
     "metadata": {},
     "output_type": "execute_result"
    }
   ],
   "source": [
    "year_published_no_zeros.head()"
   ]
  },
  {
   "cell_type": "code",
   "execution_count": 216,
   "id": "fabb5eb4-d64d-460b-abba-be78a5fdcb41",
   "metadata": {},
   "outputs": [
    {
     "name": "stdout",
     "output_type": "stream",
     "text": [
      "YEAR_PUBLISHED PERCENTILES\n",
      "==========================\n",
      "1% percentile: 1899\n",
      "5% percentile: 1962\n",
      "6% percentile: 1967\n",
      "7% percentile: 1971\n",
      "8% percentile: 1973\n",
      "9% percentile: 1975\n",
      "10% percentile: 1977\n",
      "15% percentile: 1985\n",
      "20% percentile: 1991\n",
      "25% percentile: 1996\n",
      "50% percentile: 2010\n",
      "75% percentile: 2017\n"
     ]
    }
   ],
   "source": [
    "year_published_no_zeros = gen_df.query('year_published != 0')['year_published']\n",
    "\n",
    "au.print_titled_text(\"year_published percentiles\")\n",
    "for q in np.array([1, 5, 6, 7, 8, 9, 10, 15, 20, 25, 50, 75])/100:\n",
    "    print(\n",
    "        f\"{q:.0%} percentile: \"\n",
    "        f\"{year_published_no_zeros.quantile(q):.0f}\"\n",
    "    )\n"
   ]
  },
  {
   "cell_type": "markdown",
   "id": "38904b7c-a3c3-419f-8f5a-6fc029ea9704",
   "metadata": {},
   "source": [
    "For games published in the 21st century, there is a dropoff after 2020. I suspect this is probably because it takes time for games to get added, especially they are lesser known."
   ]
  },
  {
   "cell_type": "code",
   "execution_count": 217,
   "id": "8c2237c8-a204-42cb-b946-7abe05cdf780",
   "metadata": {
    "tags": []
   },
   "outputs": [
    {
     "data": {
      "image/png": "[encoded data removed]",
      "text/plain": [
       "<Figure size 640x360 with 1 Axes>"
      ]
     },
     "metadata": {
      "needs_background": "light"
     },
     "output_type": "display_data"
    }
   ],
   "source": [
    "gt_year = 2000\n",
    "g = sns.displot(data=gen_df.query(f\"year_published > {gt_year}\"),\n",
    "                x='year_published',\n",
    "                binwidth=1,\n",
    "                height=HEIGHT_STANDARD,\n",
    "                aspect=ASPECT_WIDE,);\n",
    "\n",
    "g.set(title=f\"year_published > {gt_year} histogram\");"
   ]
  },
  {
   "cell_type": "markdown",
   "id": "555543cd-e2f7-425e-9787-23b558e1cc34",
   "metadata": {},
   "source": [
    "This is a sampling of games from different time periods. Some additional observations:\n",
    "- Games published before the year 0 do in fact appear to be genuine ancient games (although assigning them to a specific year is arbitrarily precise)\n",
    "- Some games are set to be published with the future (i.e. year > 2022). For example [Pharmageddon](https://www.kickstarter.com/projects/pharmageddon/pharmageddon-bugs-vs-drugs) has a finished kickstarter, but is not released yet.\n",
    "\n",
    "Historical games (year < 2000) are kind of interesting to take a look through. \n"
   ]
  },
  {
   "cell_type": "code",
   "execution_count": 222,
   "id": "8fab2fcb-3f21-4088-a1fa-40efcce82084",
   "metadata": {},
   "outputs": [
    {
     "name": "stdout",
     "output_type": "stream",
     "text": [
      "\n",
      "\n",
      "\n",
      "EXAMPLE GAMES WITH PUBLISHED YEAR >= -3500 AND < 0\n",
      "==================================================\n"
     ]
    },
    {
     "data": {
      "text/html": [
       "<a href=https://boardgamegeek.com/boardgame/39628>ID: 39628 Jiroft</a>"
      ],
      "text/plain": [
       "<IPython.core.display.HTML object>"
      ]
     },
     "metadata": {},
     "output_type": "display_data"
    },
    {
     "data": {
      "text/html": [
       "<a href=https://boardgamegeek.com/boardgame/22610>ID: 22610 Liubo</a>"
      ],
      "text/plain": [
       "<IPython.core.display.HTML object>"
      ]
     },
     "metadata": {},
     "output_type": "display_data"
    },
    {
     "data": {
      "text/html": [
       "<a href=https://boardgamegeek.com/boardgame/340997>ID: 340997 Five Lines</a>"
      ],
      "text/plain": [
       "<IPython.core.display.HTML object>"
      ]
     },
     "metadata": {},
     "output_type": "display_data"
    },
    {
     "data": {
      "text/html": [
       "<a href=https://boardgamegeek.com/boardgame/19915>ID: 19915 Three Men's Morris</a>"
      ],
      "text/plain": [
       "<IPython.core.display.HTML object>"
      ]
     },
     "metadata": {},
     "output_type": "display_data"
    },
    {
     "data": {
      "text/html": [
       "<a href=https://boardgamegeek.com/boardgame/23211>ID: 23211 20 Squares</a>"
      ],
      "text/plain": [
       "<IPython.core.display.HTML object>"
      ]
     },
     "metadata": {},
     "output_type": "display_data"
    },
    {
     "name": "stdout",
     "output_type": "stream",
     "text": [
      "\n",
      "\n",
      "\n",
      "EXAMPLE GAMES WITH PUBLISHED YEAR >= 0 AND < 1\n",
      "==============================================\n"
     ]
    },
    {
     "data": {
      "text/html": [
       "<a href=https://boardgamegeek.com/boardgame/280059>ID: 280059 Royal Gardeners</a>"
      ],
      "text/plain": [
       "<IPython.core.display.HTML object>"
      ]
     },
     "metadata": {},
     "output_type": "display_data"
    },
    {
     "data": {
      "text/html": [
       "<a href=https://boardgamegeek.com/boardgame/252074>ID: 252074 Grand Slam Baseball VCR Game</a>"
      ],
      "text/plain": [
       "<IPython.core.display.HTML object>"
      ]
     },
     "metadata": {},
     "output_type": "display_data"
    },
    {
     "data": {
      "text/html": [
       "<a href=https://boardgamegeek.com/boardgame/65496>ID: 65496 Dinosaur Decisions</a>"
      ],
      "text/plain": [
       "<IPython.core.display.HTML object>"
      ]
     },
     "metadata": {},
     "output_type": "display_data"
    },
    {
     "data": {
      "text/html": [
       "<a href=https://boardgamegeek.com/boardgame/25353>ID: 25353 American Trivia Challenge California Style</a>"
      ],
      "text/plain": [
       "<IPython.core.display.HTML object>"
      ]
     },
     "metadata": {},
     "output_type": "display_data"
    },
    {
     "data": {
      "text/html": [
       "<a href=https://boardgamegeek.com/boardgame/35735>ID: 35735 Destination Sheffield</a>"
      ],
      "text/plain": [
       "<IPython.core.display.HTML object>"
      ]
     },
     "metadata": {},
     "output_type": "display_data"
    },
    {
     "name": "stdout",
     "output_type": "stream",
     "text": [
      "\n",
      "\n",
      "\n",
      "EXAMPLE GAMES WITH PUBLISHED YEAR >= 1 AND < 1800\n",
      "=================================================\n"
     ]
    },
    {
     "data": {
      "text/html": [
       "<a href=https://boardgamegeek.com/boardgame/59333>ID: 59333 Oicho-Kabu</a>"
      ],
      "text/plain": [
       "<IPython.core.display.HTML object>"
      ]
     },
     "metadata": {},
     "output_type": "display_data"
    },
    {
     "data": {
      "text/html": [
       "<a href=https://boardgamegeek.com/boardgame/15617>ID: 15617 Gnav</a>"
      ],
      "text/plain": [
       "<IPython.core.display.HTML object>"
      ]
     },
     "metadata": {},
     "output_type": "display_data"
    },
    {
     "data": {
      "text/html": [
       "<a href=https://boardgamegeek.com/boardgame/66770>ID: 66770 Le Jeu du Monde</a>"
      ],
      "text/plain": [
       "<IPython.core.display.HTML object>"
      ]
     },
     "metadata": {},
     "output_type": "display_data"
    },
    {
     "data": {
      "text/html": [
       "<a href=https://boardgamegeek.com/boardgame/94904>ID: 94904 Wallis's complete Voyage Round the World: a new geographical pastime</a>"
      ],
      "text/plain": [
       "<IPython.core.display.HTML object>"
      ]
     },
     "metadata": {},
     "output_type": "display_data"
    },
    {
     "data": {
      "text/html": [
       "<a href=https://boardgamegeek.com/boardgame/24805>ID: 24805 Tori Shogi</a>"
      ],
      "text/plain": [
       "<IPython.core.display.HTML object>"
      ]
     },
     "metadata": {},
     "output_type": "display_data"
    },
    {
     "name": "stdout",
     "output_type": "stream",
     "text": [
      "\n",
      "\n",
      "\n",
      "EXAMPLE GAMES WITH PUBLISHED YEAR >= 1800 AND < 1900\n",
      "====================================================\n"
     ]
    },
    {
     "data": {
      "text/html": [
       "<a href=https://boardgamegeek.com/boardgame/62403>ID: 62403 The Sun of Brunswick</a>"
      ],
      "text/plain": [
       "<IPython.core.display.HTML object>"
      ]
     },
     "metadata": {},
     "output_type": "display_data"
    },
    {
     "data": {
      "text/html": [
       "<a href=https://boardgamegeek.com/boardgame/19262>ID: 19262 Plank</a>"
      ],
      "text/plain": [
       "<IPython.core.display.HTML object>"
      ]
     },
     "metadata": {},
     "output_type": "display_data"
    },
    {
     "data": {
      "text/html": [
       "<a href=https://boardgamegeek.com/boardgame/1115>ID: 1115 Poker</a>"
      ],
      "text/plain": [
       "<IPython.core.display.HTML object>"
      ]
     },
     "metadata": {},
     "output_type": "display_data"
    },
    {
     "data": {
      "text/html": [
       "<a href=https://boardgamegeek.com/boardgame/154373>ID: 154373 Triangular Dominoes</a>"
      ],
      "text/plain": [
       "<IPython.core.display.HTML object>"
      ]
     },
     "metadata": {},
     "output_type": "display_data"
    },
    {
     "data": {
      "text/html": [
       "<a href=https://boardgamegeek.com/boardgame/181116>ID: 181116 Le Tour du Monde a Bicyclette</a>"
      ],
      "text/plain": [
       "<IPython.core.display.HTML object>"
      ]
     },
     "metadata": {},
     "output_type": "display_data"
    },
    {
     "name": "stdout",
     "output_type": "stream",
     "text": [
      "\n",
      "\n",
      "\n",
      "EXAMPLE GAMES WITH PUBLISHED YEAR >= 1900 AND < 1950\n",
      "====================================================\n"
     ]
    },
    {
     "data": {
      "text/html": [
       "<a href=https://boardgamegeek.com/boardgame/200997>ID: 200997 Regatta</a>"
      ],
      "text/plain": [
       "<IPython.core.display.HTML object>"
      ]
     },
     "metadata": {},
     "output_type": "display_data"
    },
    {
     "data": {
      "text/html": [
       "<a href=https://boardgamegeek.com/boardgame/120244>ID: 120244 Bailing Out</a>"
      ],
      "text/plain": [
       "<IPython.core.display.HTML object>"
      ]
     },
     "metadata": {},
     "output_type": "display_data"
    },
    {
     "data": {
      "text/html": [
       "<a href=https://boardgamegeek.com/boardgame/9794>ID: 9794 Rummoli</a>"
      ],
      "text/plain": [
       "<IPython.core.display.HTML object>"
      ]
     },
     "metadata": {},
     "output_type": "display_data"
    },
    {
     "data": {
      "text/html": [
       "<a href=https://boardgamegeek.com/boardgame/157777>ID: 157777 Bedlam</a>"
      ],
      "text/plain": [
       "<IPython.core.display.HTML object>"
      ]
     },
     "metadata": {},
     "output_type": "display_data"
    },
    {
     "data": {
      "text/html": [
       "<a href=https://boardgamegeek.com/boardgame/38851>ID: 38851 Hucke-Peter</a>"
      ],
      "text/plain": [
       "<IPython.core.display.HTML object>"
      ]
     },
     "metadata": {},
     "output_type": "display_data"
    },
    {
     "name": "stdout",
     "output_type": "stream",
     "text": [
      "\n",
      "\n",
      "\n",
      "EXAMPLE GAMES WITH PUBLISHED YEAR >= 1950 AND < 1980\n",
      "====================================================\n"
     ]
    },
    {
     "data": {
      "text/html": [
       "<a href=https://boardgamegeek.com/boardgame/12402>ID: 12402 Dream House TV Home Game</a>"
      ],
      "text/plain": [
       "<IPython.core.display.HTML object>"
      ]
     },
     "metadata": {},
     "output_type": "display_data"
    },
    {
     "data": {
      "text/html": [
       "<a href=https://boardgamegeek.com/boardgame/113782>ID: 113782 Lustige Kletterei</a>"
      ],
      "text/plain": [
       "<IPython.core.display.HTML object>"
      ]
     },
     "metadata": {},
     "output_type": "display_data"
    },
    {
     "data": {
      "text/html": [
       "<a href=https://boardgamegeek.com/boardgame/1665>ID: 1665 Airport</a>"
      ],
      "text/plain": [
       "<IPython.core.display.HTML object>"
      ]
     },
     "metadata": {},
     "output_type": "display_data"
    },
    {
     "data": {
      "text/html": [
       "<a href=https://boardgamegeek.com/boardgame/124002>ID: 124002 Rotascript</a>"
      ],
      "text/plain": [
       "<IPython.core.display.HTML object>"
      ]
     },
     "metadata": {},
     "output_type": "display_data"
    },
    {
     "data": {
      "text/html": [
       "<a href=https://boardgamegeek.com/boardgame/18004>ID: 18004 Super Jock Super Touch Basketball</a>"
      ],
      "text/plain": [
       "<IPython.core.display.HTML object>"
      ]
     },
     "metadata": {},
     "output_type": "display_data"
    },
    {
     "name": "stdout",
     "output_type": "stream",
     "text": [
      "\n",
      "\n",
      "\n",
      "EXAMPLE GAMES WITH PUBLISHED YEAR >= 1980 AND < 2000\n",
      "====================================================\n"
     ]
    },
    {
     "data": {
      "text/html": [
       "<a href=https://boardgamegeek.com/boardgame/92389>ID: 92389 The 19th Hole Classic Golf Card Game</a>"
      ],
      "text/plain": [
       "<IPython.core.display.HTML object>"
      ]
     },
     "metadata": {},
     "output_type": "display_data"
    },
    {
     "data": {
      "text/html": [
       "<a href=https://boardgamegeek.com/boardgame/6763>ID: 6763 Playoff</a>"
      ],
      "text/plain": [
       "<IPython.core.display.HTML object>"
      ]
     },
     "metadata": {},
     "output_type": "display_data"
    },
    {
     "data": {
      "text/html": [
       "<a href=https://boardgamegeek.com/boardgame/8494>ID: 8494 For Sale: A Real Estate Game</a>"
      ],
      "text/plain": [
       "<IPython.core.display.HTML object>"
      ]
     },
     "metadata": {},
     "output_type": "display_data"
    },
    {
     "data": {
      "text/html": [
       "<a href=https://boardgamegeek.com/boardgame/35193>ID: 35193 Mein erstes Naturspiel: Woher kommt mein Essen?</a>"
      ],
      "text/plain": [
       "<IPython.core.display.HTML object>"
      ]
     },
     "metadata": {},
     "output_type": "display_data"
    },
    {
     "data": {
      "text/html": [
       "<a href=https://boardgamegeek.com/boardgame/6479>ID: 6479 Uncle Happy's Train Game</a>"
      ],
      "text/plain": [
       "<IPython.core.display.HTML object>"
      ]
     },
     "metadata": {},
     "output_type": "display_data"
    },
    {
     "name": "stdout",
     "output_type": "stream",
     "text": [
      "\n",
      "\n",
      "\n",
      "EXAMPLE GAMES WITH PUBLISHED YEAR >= 2000 AND < 2022\n",
      "====================================================\n"
     ]
    },
    {
     "data": {
      "text/html": [
       "<a href=https://boardgamegeek.com/boardgame/341783>ID: 341783 Desafío Vocablos</a>"
      ],
      "text/plain": [
       "<IPython.core.display.HTML object>"
      ]
     },
     "metadata": {},
     "output_type": "display_data"
    },
    {
     "data": {
      "text/html": [
       "<a href=https://boardgamegeek.com/boardgame/323317>ID: 323317 Mouse Cheese Cat Cucumber</a>"
      ],
      "text/plain": [
       "<IPython.core.display.HTML object>"
      ]
     },
     "metadata": {},
     "output_type": "display_data"
    },
    {
     "data": {
      "text/html": [
       "<a href=https://boardgamegeek.com/boardgame/256817>ID: 256817 Das Haus Anubis: Pfad der 7 Sünden</a>"
      ],
      "text/plain": [
       "<IPython.core.display.HTML object>"
      ]
     },
     "metadata": {},
     "output_type": "display_data"
    },
    {
     "data": {
      "text/html": [
       "<a href=https://boardgamegeek.com/boardgame/171779>ID: 171779 GemPacked Cards</a>"
      ],
      "text/plain": [
       "<IPython.core.display.HTML object>"
      ]
     },
     "metadata": {},
     "output_type": "display_data"
    },
    {
     "data": {
      "text/html": [
       "<a href=https://boardgamegeek.com/boardgame/289783>ID: 289783 Polonka 1660</a>"
      ],
      "text/plain": [
       "<IPython.core.display.HTML object>"
      ]
     },
     "metadata": {},
     "output_type": "display_data"
    },
    {
     "name": "stdout",
     "output_type": "stream",
     "text": [
      "\n",
      "\n",
      "\n",
      "EXAMPLE GAMES WITH PUBLISHED YEAR >= 2022 AND < 2027\n",
      "====================================================\n"
     ]
    },
    {
     "data": {
      "text/html": [
       "<a href=https://boardgamegeek.com/boardgame/335130>ID: 335130 Give Us Victories</a>"
      ],
      "text/plain": [
       "<IPython.core.display.HTML object>"
      ]
     },
     "metadata": {},
     "output_type": "display_data"
    },
    {
     "data": {
      "text/html": [
       "<a href=https://boardgamegeek.com/boardgame/362121>ID: 362121 Sunshine City</a>"
      ],
      "text/plain": [
       "<IPython.core.display.HTML object>"
      ]
     },
     "metadata": {},
     "output_type": "display_data"
    },
    {
     "data": {
      "text/html": [
       "<a href=https://boardgamegeek.com/boardgame/358628>ID: 358628 Audimat</a>"
      ],
      "text/plain": [
       "<IPython.core.display.HTML object>"
      ]
     },
     "metadata": {},
     "output_type": "display_data"
    },
    {
     "data": {
      "text/html": [
       "<a href=https://boardgamegeek.com/boardgame/353196>ID: 353196 Sync or Swim</a>"
      ],
      "text/plain": [
       "<IPython.core.display.HTML object>"
      ]
     },
     "metadata": {},
     "output_type": "display_data"
    },
    {
     "data": {
      "text/html": [
       "<a href=https://boardgamegeek.com/boardgame/350316>ID: 350316 Wayfarers of the South Tigris</a>"
      ],
      "text/plain": [
       "<IPython.core.display.HTML object>"
      ]
     },
     "metadata": {},
     "output_type": "display_data"
    }
   ],
   "source": [
    "year_bounds = [gen_df['year_published'].min(), 0, 1, 1800, 1900, 1950, 1980, 2000, 2022,\n",
    "               gen_df['year_published'].max() + 1]\n",
    "\n",
    "for start, end in zip(year_bounds[:-1], year_bounds[1:]):\n",
    "    au.print_spacer()\n",
    "    au.print_titled_text(\n",
    "        f\"Example games with published year\"\n",
    "        f\" >= {start} and < {end}\"\n",
    "    )\n",
    "    au.display_id_links_from_df(\n",
    "        gen_df.query(f\"(year_published >= {start}) and (year_published < {end})\")\\\n",
    "        .sample(5, random_state=7)\n",
    "    )"
   ]
  },
  {
   "cell_type": "markdown",
   "id": "887a1692-a36c-4917-9458-9b81ce2cc4ae",
   "metadata": {},
   "source": [
    "Note: there are 401 games with year > 2022 in this dataset."
   ]
  },
  {
   "cell_type": "code",
   "execution_count": 164,
   "id": "9ba8e073-94f8-4e3d-b887-12b9102a6172",
   "metadata": {},
   "outputs": [
    {
     "name": "stdout",
     "output_type": "stream",
     "text": [
      "\n",
      "\n",
      "\n",
      "GAMES W/ YEAR_PUBLISHED > 2022\n",
      "==============================\n",
      "401\n"
     ]
    }
   ],
   "source": [
    "au.print_spacer()\n",
    "au.print_titled_text(\"games w/ year_published > 2022\")\n",
    "print(gen_df.query(\"year_published > 2022\").shape[0])"
   ]
  },
  {
   "cell_type": "markdown",
   "id": "34edf24f-ba78-4b64-af12-b87920ca7a22",
   "metadata": {},
   "source": [
    "#### `players_min` and `players_max`"
   ]
  },
  {
   "cell_type": "code",
   "execution_count": null,
   "id": "625097a8-d4e0-49e5-8a91-49e82a428aa4",
   "metadata": {},
   "outputs": [],
   "source": [
    "g = sns.displot(\n",
    "        data=gen_df,\n",
    "        x='players_min',\n",
    "        height=HEIGHT_STANDARD,\n",
    "        aspect=ASPECT_WIDE,\n",
    ");\n",
    "\n",
    "g.set(title=\"players_min histogram\");\n",
    "\n",
    "g = sns.displot(\n",
    "        data=gen_df,\n",
    "        x='players_min',\n",
    "        log_scale=(False, True),\n",
    "        height=HEIGHT_STANDARD,\n",
    "        aspect=ASPECT_WIDE,\n",
    ");\n",
    "\n",
    "g.set(title=\"players_min histogram log scale\");"
   ]
  },
  {
   "cell_type": "markdown",
   "id": "62e0f42a-32d9-48cd-98b9-60df100b06ac",
   "metadata": {
    "tags": []
   },
   "source": [
    "#### `playtime`, `playtime_min`, and `playtime_max`"
   ]
  },
  {
   "cell_type": "code",
   "execution_count": null,
   "id": "1e9eaace-6a50-432d-929d-ed6c3418f2e4",
   "metadata": {},
   "outputs": [],
   "source": [
    "g = sns.displot(\n",
    "        data=gen_df.query(\"playtime <= 600\"),\n",
    "        x='playtime',\n",
    "        binwidth=5,\n",
    "        height=HEIGHT_STANDARD,\n",
    "        aspect=ASPECT_WIDE,\n",
    "        linewidth=0.03,\n",
    ")\n",
    "\n",
    "g.set(title=\"playtime <= 10 hours histogram\");\n",
    "\n",
    "g = sns.displot(\n",
    "        data=gen_df.query(\"playtime > 600\"),\n",
    "        x='playtime',\n",
    "        binwidth=1000,\n",
    "        height=HEIGHT_STANDARD,\n",
    "        aspect=ASPECT_WIDE,\n",
    "        linewidth=0.03,\n",
    ")\n",
    "\n",
    "g.set(title=\"playtime > 10 hours histogram\");"
   ]
  },
  {
   "cell_type": "code",
   "execution_count": null,
   "id": "a2d21c35-09de-46ba-9669-ff3871ae5991",
   "metadata": {},
   "outputs": [],
   "source": [
    "g = sns.displot(\n",
    "        data=gen_df,\n",
    "        x='playtime_min',\n",
    "        binwidth=1_000_000,\n",
    "        height=HEIGHT_STANDARD,\n",
    "        aspect=ASPECT_WIDE,\n",
    ")\n",
    "\n",
    "g.set(title=\"playtime_min histogram\");"
   ]
  },
  {
   "cell_type": "code",
   "execution_count": null,
   "id": "ea6961a8-d4f7-419a-be30-450f0379908a",
   "metadata": {},
   "outputs": [],
   "source": [
    "g = sns.displot(\n",
    "            data=gen_df,\n",
    "            x='playtime_max',\n",
    "            binwidth=1_000_000,\n",
    "            height=HEIGHT_STANDARD,\n",
    "            aspect=ASPECT_WIDE,\n",
    ")\n",
    "\n",
    "g.set(title=\"playtime_max histogram\");"
   ]
  },
  {
   "cell_type": "code",
   "execution_count": null,
   "id": "e9b67f7e-e041-4021-9e5c-51ffc695921d",
   "metadata": {},
   "outputs": [],
   "source": [
    "gen_df[(gen_df['playtime']> 1200)].describe()"
   ]
  },
  {
   "cell_type": "code",
   "execution_count": null,
   "id": "3bf85dfa-46d7-415d-afb5-5ed43f968b1c",
   "metadata": {},
   "outputs": [],
   "source": [
    "au.display_id_link(317582)"
   ]
  },
  {
   "cell_type": "code",
   "execution_count": null,
   "id": "08c799b6-39e4-4d70-bcf4-d9dd35913434",
   "metadata": {},
   "outputs": [],
   "source": [
    "display(gen_df[gen_df['playtime'] == gen_df['playtime'].max()])\n",
    "au.display_id_link(351507)\n"
   ]
  },
  {
   "cell_type": "code",
   "execution_count": null,
   "id": "32767bf9-677d-41cc-92e0-1bb0706a44e0",
   "metadata": {},
   "outputs": [],
   "source": [
    "def plot_playtimes(df: pd.DataFrame) -> None:\n",
    "    f, ax = plt.subplots(figsize=(5,5))\n",
    "    # should be... x is time, y is count, based on sort of playtime\n",
    "    playtimes = df[['playtime',\n",
    "                    'playtime_min',\n",
    "                    'playtime_max']].reset_index()\n",
    "    ax.plot(df['playtime'], df.index)\n",
    "    \n",
    "plot_playtimes(gen_df)\n",
    "    \n",
    "    "
   ]
  },
  {
   "cell_type": "markdown",
   "id": "f93ce7d8-582e-4fef-8cba-0f4ffbc26e03",
   "metadata": {},
   "source": [
    "#### `age_min`"
   ]
  },
  {
   "cell_type": "code",
   "execution_count": null,
   "id": "a831eb1a-a972-41d6-9f61-0b7ec0f263e8",
   "metadata": {},
   "outputs": [],
   "source": [
    "g = sns.displot(\n",
    "        data=gen_df,\n",
    "        x='age_min',\n",
    "        binwidth=10,\n",
    "        height=HEIGHT_STANDARD,\n",
    "        aspect=ASPECT_WIDE,\n",
    "        log_scale=(False, True)\n",
    ");\n",
    "\n",
    "g.set(title=\"age_min histogram\");\n",
    "\n",
    "x_max = 200\n",
    "g = sns.displot(\n",
    "        data=gen_df.query(f\"age_min < {x_max}\"),\n",
    "        x='age_min',\n",
    "        binwidth=1,\n",
    "        height=HEIGHT_STANDARD,\n",
    "        aspect=ASPECT_WIDE,\n",
    "        log_scale=(False, True)\n",
    ")\n",
    "\n",
    "g.set(title=f\"age_min histogram for age_min < {x_max}\");\n"
   ]
  },
  {
   "cell_type": "markdown",
   "id": "66d7a1a2-f3cd-414c-8691-643d80d7b9ae",
   "metadata": {},
   "source": [
    "#### `ratings_n`"
   ]
  },
  {
   "cell_type": "code",
   "execution_count": null,
   "id": "571a1afe-1d6e-446e-8e2f-ef2d1d3f4f56",
   "metadata": {},
   "outputs": [],
   "source": [
    "g = sns.displot(\n",
    "        data=gen_df,\n",
    "        x='ratings_n',\n",
    "        binwidth=1000,\n",
    "        log_scale=(False, True),\n",
    "        height=HEIGHT_STANDARD,\n",
    "        aspect=ASPECT_WIDE\n",
    ");\n",
    "\n",
    "g.set(title='ratings_n histogram');"
   ]
  },
  {
   "cell_type": "markdown",
   "id": "4e27472c-3fe2-4408-8f38-6517eda6aa67",
   "metadata": {},
   "source": [
    "#### `ratings_mean`"
   ]
  },
  {
   "cell_type": "code",
   "execution_count": null,
   "id": "84fa218e-8335-4cf1-b966-349b21b0434b",
   "metadata": {},
   "outputs": [],
   "source": [
    "g = sns.displot(\n",
    "        data=gen_df,\n",
    "        x='ratings_mean',\n",
    "        height=HEIGHT_STANDARD,\n",
    "        aspect=ASPECT_WIDE\n",
    ");\n",
    "\n",
    "g.set(title='ratings_mean histogram')"
   ]
  },
  {
   "cell_type": "markdown",
   "id": "0dea0cc7-4848-42c0-ab39-0cc6b77b3fa4",
   "metadata": {},
   "source": [
    "#### `ratings_bayes_average`"
   ]
  },
  {
   "cell_type": "code",
   "execution_count": null,
   "id": "d748c1e5-6e19-4660-9aee-edca301b2dee",
   "metadata": {},
   "outputs": [],
   "source": [
    "g = sns.displot(\n",
    "        data=gen_df,\n",
    "        x='ratings_bayes_average',\n",
    "        height=HEIGHT_STANDARD,\n",
    "        aspect=ASPECT_WIDE\n",
    ");\n",
    "\n",
    "g.set(title='ratings_bayes_average histogram')"
   ]
  },
  {
   "cell_type": "markdown",
   "id": "6d42eb3b-2a9b-486e-9108-11aed2dea7b3",
   "metadata": {},
   "source": [
    "#### `ratings_stddev`"
   ]
  },
  {
   "cell_type": "code",
   "execution_count": null,
   "id": "7522860b-8bfd-460e-84e9-c21e84fe1bc8",
   "metadata": {},
   "outputs": [],
   "source": [
    "g = sns.displot(\n",
    "        data=gen_df,\n",
    "        x='ratings_stddev',\n",
    "        heighHEIGHT_STANDARDHT_STANDARD,\n",
    "        aspect=ASPECT_WIDE\n",
    ");\n",
    "\n",
    "g.set(title='ratings_stddev histogram')"
   ]
  },
  {
   "cell_type": "markdown",
   "id": "00d51fda-fa3f-4288-90ab-e480a0e9a753",
   "metadata": {},
   "source": [
    "#### `ratings_median`"
   ]
  },
  {
   "cell_type": "code",
   "execution_count": null,
   "id": "c2629625-64a9-4e2e-9831-0bdbde705e05",
   "metadata": {},
   "outputs": [],
   "source": [
    "g = sns.displot(\n",
    "        data=gen_df,\n",
    "        x='ratings_median',\n",
    "        height=HEIGHT_STANDARD,\n",
    "        aspect=ASPECT_WIDE\n",
    ");\n",
    "\n",
    "g.set(title='ratings_median histogram')"
   ]
  },
  {
   "cell_type": "markdown",
   "id": "d612d5b9-5ae1-4b6f-bde4-89047e2cdb27",
   "metadata": {},
   "source": [
    "#### `ratings_owned`"
   ]
  },
  {
   "cell_type": "code",
   "execution_count": null,
   "id": "9b6fe5d8-23a6-4c58-a18f-da70d4b7730f",
   "metadata": {},
   "outputs": [],
   "source": [
    "gen_df.sort_values('ratings_owned', ascending=False).head(10)"
   ]
  },
  {
   "cell_type": "code",
   "execution_count": null,
   "id": "626035ce-3b49-4dc8-bfce-5968f0cd2c82",
   "metadata": {},
   "outputs": [],
   "source": [
    "g = sns.displot(data=gen_df,\n",
    "                x='ratings_owned',\n",
    "                kind='hist',\n",
    "                binwidth=1000,\n",
    "                height=HEIGHT_STANDARD,\n",
    "                aspect=ASPECT_WIDE);\n",
    "\n",
    "g.set(yscale='log');"
   ]
  },
  {
   "cell_type": "code",
   "execution_count": null,
   "id": "ad2bb478-f77b-448e-8123-c1c5fae3e21f",
   "metadata": {},
   "outputs": [],
   "source": [
    "gen_df['ratings_owned'].describe()"
   ]
  },
  {
   "cell_type": "code",
   "execution_count": null,
   "id": "3abc6734-32c4-43a7-aeda-3303a5fc37c8",
   "metadata": {
    "tags": []
   },
   "outputs": [],
   "source": [
    "au.print_titled_text(\"Proportion of games with no owners\")\n",
    "(gen_df['ratings_owned'] == 0).mean().round(3)"
   ]
  },
  {
   "cell_type": "markdown",
   "id": "acb85d61-52a1-405d-b43c-7df9ec084ff9",
   "metadata": {},
   "source": [
    "#### `ratings_trading`"
   ]
  },
  {
   "cell_type": "code",
   "execution_count": null,
   "id": "7e7a1056-5500-4927-9406-331d49610749",
   "metadata": {},
   "outputs": [],
   "source": [
    "g = sns.displot(\n",
    "        data=gen_df,\n",
    "        x='ratings_trading',\n",
    "        height=HEIGHT_STANDARD,\n",
    "        aspect=ASPECT_WIDE\n",
    ");\n",
    "\n",
    "g.set(title='ratings_trading histogram')"
   ]
  },
  {
   "cell_type": "markdown",
   "id": "b094aa80-932c-42d6-89bd-1f4bdb145947",
   "metadata": {},
   "source": [
    "#### `ratings_wanting`"
   ]
  },
  {
   "cell_type": "code",
   "execution_count": null,
   "id": "373b097c-9b97-4d69-83f3-9718ba279627",
   "metadata": {},
   "outputs": [],
   "source": [
    "g = sns.displot(\n",
    "        data=gen_df,\n",
    "        x='ratings_wanting',\n",
    "        height=HEIGHT_STANDARD,\n",
    "        aspect=ASPECT_WIDE\n",
    ");\n",
    "\n",
    "g.set(title='ratings_wanting histogram')"
   ]
  },
  {
   "cell_type": "markdown",
   "id": "c50fe6b1-5446-49f8-b039-1f56829ce846",
   "metadata": {},
   "source": [
    "#### `ratings_wishing`"
   ]
  },
  {
   "cell_type": "code",
   "execution_count": null,
   "id": "ad4d8d5a-c672-4553-8113-997641a8ed83",
   "metadata": {},
   "outputs": [],
   "source": [
    "g = sns.displot(\n",
    "        data=gen_df,\n",
    "        x='ratings_wishing',\n",
    "        height=HEIGHT_STANDARD,\n",
    "        aspect=ASPECT_WIDE\n",
    ");\n",
    "\n",
    "g.set(title='ratings_wishing histogram')"
   ]
  },
  {
   "cell_type": "markdown",
   "id": "5da93904-6c8c-4917-ae1a-ad34537a1eb5",
   "metadata": {},
   "source": [
    "#### `ratings_comments_n`"
   ]
  },
  {
   "cell_type": "code",
   "execution_count": null,
   "id": "f876c201-8ed0-40de-a18a-05eeb115a1e3",
   "metadata": {},
   "outputs": [],
   "source": [
    "g = sns.displot(\n",
    "        data=gen_df,\n",
    "        x='ratings_comments_n',\n",
    "        height=HEIGHT_STANDARD,\n",
    "        aspect=ASPECT_WIDE\n",
    ");\n",
    "\n",
    "g.set(title='ratings_comments_n histogram')"
   ]
  },
  {
   "cell_type": "markdown",
   "id": "b4e86579-66d5-4282-9966-fe45b43a14e7",
   "metadata": {},
   "source": [
    "#### `ratings_weights_n`"
   ]
  },
  {
   "cell_type": "code",
   "execution_count": null,
   "id": "996fa037-700b-4581-a51e-34586b60b243",
   "metadata": {},
   "outputs": [],
   "source": [
    "g = sns.displot(\n",
    "        data=gen_df,\n",
    "        x='ratings_weights_n',\n",
    "        height=HEIGHT_STANDARD,\n",
    "        aspect=ASPECT_WIDE\n",
    ");\n",
    "\n",
    "g.set(title='ratings_weights_n histogram')"
   ]
  },
  {
   "cell_type": "markdown",
   "id": "b6c01d60-6dc8-443f-a1ca-0fff38cc8224",
   "metadata": {},
   "source": [
    "#### `ratings_weights_average`"
   ]
  },
  {
   "cell_type": "code",
   "execution_count": null,
   "id": "8e2a97b7-fa02-4d0a-82a9-27b9abc96328",
   "metadata": {},
   "outputs": [],
   "source": [
    "g = sns.displot(\n",
    "        data=gen_df,\n",
    "        x='ratings_weights_average',\n",
    "        height=HEIGHT_STANDARD,\n",
    "        aspect=ASPECT_WIDE\n",
    ");\n",
    "\n",
    "g.set(title='ratings_weights_average histogram')"
   ]
  },
  {
   "cell_type": "markdown",
   "id": "9220f97b-8c21-4568-b774-2186af4b3f2b",
   "metadata": {},
   "source": [
    "### Part 2"
   ]
  },
  {
   "cell_type": "code",
   "execution_count": null,
   "id": "cdad647d-d22b-4620-8974-8185e163f760",
   "metadata": {},
   "outputs": [],
   "source": [
    "sns.relplot(data=gen_df,\n",
    "            x='ratings_n',\n",
    "            y='ratings_mean',\n",
    "            height=HEIGHT_STANDARD*1.5,\n",
    "            aspect=ASPECT_NARROW,\n",
    "           );"
   ]
  },
  {
   "cell_type": "code",
   "execution_count": null,
   "id": "21237883-a54d-4774-8791-edf954b09bd1",
   "metadata": {},
   "outputs": [],
   "source": [
    "sns.relplot(data=gen_df.query(\"ratings_n > 21\"),\n",
    "            x='ratings_n',\n",
    "            y='ratings_mean',\n",
    "            height=HEIGHT_STANDARD*1.5,\n",
    "            aspect=ASPECT_NARROW,\n",
    "            linewidth=0.1,\n",
    "            alpha=0.2\n",
    "           );"
   ]
  },
  {
   "cell_type": "code",
   "execution_count": null,
   "id": "cfb4a124-c645-4057-8f5e-944cc8e91cbc",
   "metadata": {},
   "outputs": [],
   "source": [
    "gen_df.query(\"ratings_bayes_average == 0\")['ratings_n'].describe()"
   ]
  },
  {
   "cell_type": "code",
   "execution_count": null,
   "id": "f3b890da-8ea8-4547-be00-2fcfc37f82a2",
   "metadata": {},
   "outputs": [],
   "source": [
    "sns.relplot(data=gen_df,\n",
    "            x='ratings_bayes_average',\n",
    "            y='ratings_mean',\n",
    "            hue=gen_df['ratings_n'] <= 29,\n",
    "            height=HEIGHT_STANDARD*1.5,\n",
    "            aspect=ASPECT_NARROW,\n",
    "            linewidth=0.1,\n",
    "            alpha=0.2\n",
    "           );"
   ]
  },
  {
   "cell_type": "code",
   "execution_count": null,
   "id": "ab91b1db-cc19-448c-b7a8-3cdd3cb31b45",
   "metadata": {},
   "outputs": [],
   "source": [
    "data = gen_df.query(\"ratings_bayes_average > 0\")\n",
    "log_ratings_n = np.log10(data['ratings_n'])\n",
    "log_ratings_n.name = \"log10_ratings_n\"\n",
    "f, ax = plt.subplots(\n",
    "    1,\n",
    "    1,\n",
    "    figsize=(HEIGHT_STANDARD*2, HEIGHT_STANDARD*2))\n",
    "sns.scatterplot(\n",
    "        ax=ax,\n",
    "        data=data,\n",
    "        x='ratings_bayes_average',\n",
    "        y='ratings_mean',\n",
    "        hue=log_ratings_n,\n",
    "        linewidth=0.1,\n",
    "        alpha=0.2\n",
    "        );\n",
    "\n",
    "ax.set_xlim([0,10])\n",
    "ax.set_ylim([0,10])\n",
    "# x=y\n",
    "ax.plot([0,10],[0,10],\n",
    "        alpha=0.08,\n",
    "        linewidth=3,\n",
    "        color='black');\n"
   ]
  },
  {
   "cell_type": "code",
   "execution_count": null,
   "id": "f7a82063-4ae2-48f8-b5a1-172aa3d83868",
   "metadata": {},
   "outputs": [],
   "source": [
    "# TODO reverse engineer fuzzing algo"
   ]
  },
  {
   "cell_type": "code",
   "execution_count": null,
   "id": "160d34bf-bd86-4b37-a8d4-56892cdc3499",
   "metadata": {},
   "outputs": [],
   "source": [
    "gen_df['ratings_n'].describe()"
   ]
  },
  {
   "cell_type": "markdown",
   "id": "6c9b31b6-f9ce-4917-9040-322c3fd7ba99",
   "metadata": {},
   "source": [
    "### Link data"
   ]
  },
  {
   "cell_type": "code",
   "execution_count": 86,
   "id": "e0547084-eb0b-4f1f-a38e-2a8792aa0d3b",
   "metadata": {},
   "outputs": [
    {
     "data": {
      "text/html": [
       "<div>\n",
       "<style scoped>\n",
       "    .dataframe tbody tr th:only-of-type {\n",
       "        vertical-align: middle;\n",
       "    }\n",
       "\n",
       "    .dataframe tbody tr th {\n",
       "        vertical-align: top;\n",
       "    }\n",
       "\n",
       "    .dataframe thead th {\n",
       "        text-align: right;\n",
       "    }\n",
       "</style>\n",
       "<table border=\"1\" class=\"dataframe\">\n",
       "  <thead>\n",
       "    <tr style=\"text-align: right;\">\n",
       "      <th></th>\n",
       "      <th>boardgame_id</th>\n",
       "      <th>type</th>\n",
       "      <th>value</th>\n",
       "      <th>link_id</th>\n",
       "      <th>inbound</th>\n",
       "    </tr>\n",
       "  </thead>\n",
       "  <tbody>\n",
       "    <tr>\n",
       "      <th>0</th>\n",
       "      <td>101769</td>\n",
       "      <td>boardgamecategory</td>\n",
       "      <td>Dice</td>\n",
       "      <td>1017</td>\n",
       "      <td>None</td>\n",
       "    </tr>\n",
       "    <tr>\n",
       "      <th>1</th>\n",
       "      <td>101769</td>\n",
       "      <td>boardgamecategory</td>\n",
       "      <td>Economic</td>\n",
       "      <td>1021</td>\n",
       "      <td>None</td>\n",
       "    </tr>\n",
       "    <tr>\n",
       "      <th>2</th>\n",
       "      <td>101769</td>\n",
       "      <td>boardgamemechanic</td>\n",
       "      <td>Dice Rolling</td>\n",
       "      <td>2072</td>\n",
       "      <td>None</td>\n",
       "    </tr>\n",
       "    <tr>\n",
       "      <th>3</th>\n",
       "      <td>101769</td>\n",
       "      <td>boardgamemechanic</td>\n",
       "      <td>Roll / Spin and Move</td>\n",
       "      <td>2035</td>\n",
       "      <td>None</td>\n",
       "    </tr>\n",
       "    <tr>\n",
       "      <th>4</th>\n",
       "      <td>101769</td>\n",
       "      <td>boardgamedesigner</td>\n",
       "      <td>Wolfgang Kramer</td>\n",
       "      <td>7</td>\n",
       "      <td>None</td>\n",
       "    </tr>\n",
       "  </tbody>\n",
       "</table>\n",
       "</div>"
      ],
      "text/plain": [
       "   boardgame_id               type                 value  link_id inbound\n",
       "0        101769  boardgamecategory                  Dice     1017    None\n",
       "1        101769  boardgamecategory              Economic     1021    None\n",
       "2        101769  boardgamemechanic          Dice Rolling     2072    None\n",
       "3        101769  boardgamemechanic  Roll / Spin and Move     2035    None\n",
       "4        101769  boardgamedesigner       Wolfgang Kramer        7    None"
      ]
     },
     "execution_count": 86,
     "metadata": {},
     "output_type": "execute_result"
    }
   ],
   "source": [
    "link_df.head()"
   ]
  },
  {
   "cell_type": "code",
   "execution_count": 96,
   "id": "a8bb26e1-db34-4105-ac29-39f0c0e82c8c",
   "metadata": {},
   "outputs": [
    {
     "data": {
      "text/plain": [
       "(1053398, 5)"
      ]
     },
     "execution_count": 96,
     "metadata": {},
     "output_type": "execute_result"
    }
   ],
   "source": [
    "link_df.shape"
   ]
  },
  {
   "cell_type": "code",
   "execution_count": 95,
   "id": "a90fd0ec-9b1a-4518-9180-befe7796088d",
   "metadata": {},
   "outputs": [
    {
     "name": "stdout",
     "output_type": "stream",
     "text": [
      "<class 'pandas.core.frame.DataFrame'>\n",
      "RangeIndex: 1053398 entries, 0 to 1053397\n",
      "Data columns (total 5 columns):\n",
      " #   Column        Non-Null Count    Dtype \n",
      "---  ------        --------------    ----- \n",
      " 0   boardgame_id  1053398 non-null  int64 \n",
      " 1   type          1053398 non-null  object\n",
      " 2   value         1053398 non-null  object\n",
      " 3   link_id       1053398 non-null  int64 \n",
      " 4   inbound       8986 non-null     object\n",
      "dtypes: int64(2), object(3)\n",
      "memory usage: 40.2+ MB\n"
     ]
    }
   ],
   "source": [
    "link_df.info()"
   ]
  },
  {
   "cell_type": "code",
   "execution_count": 97,
   "id": "5e75971a-757e-428a-82f4-40a0bf0e2c52",
   "metadata": {},
   "outputs": [
    {
     "data": {
      "text/html": [
       "<div>\n",
       "<style scoped>\n",
       "    .dataframe tbody tr th:only-of-type {\n",
       "        vertical-align: middle;\n",
       "    }\n",
       "\n",
       "    .dataframe tbody tr th {\n",
       "        vertical-align: top;\n",
       "    }\n",
       "\n",
       "    .dataframe thead th {\n",
       "        text-align: right;\n",
       "    }\n",
       "</style>\n",
       "<table border=\"1\" class=\"dataframe\">\n",
       "  <thead>\n",
       "    <tr style=\"text-align: right;\">\n",
       "      <th></th>\n",
       "      <th>boardgame_id</th>\n",
       "      <th>link_id</th>\n",
       "    </tr>\n",
       "  </thead>\n",
       "  <tbody>\n",
       "    <tr>\n",
       "      <th>count</th>\n",
       "      <td>1.053398e+06</td>\n",
       "      <td>1.053398e+06</td>\n",
       "    </tr>\n",
       "    <tr>\n",
       "      <th>mean</th>\n",
       "      <td>1.505440e+05</td>\n",
       "      <td>2.687520e+04</td>\n",
       "    </tr>\n",
       "    <tr>\n",
       "      <th>std</th>\n",
       "      <td>1.180027e+05</td>\n",
       "      <td>5.926709e+04</td>\n",
       "    </tr>\n",
       "    <tr>\n",
       "      <th>min</th>\n",
       "      <td>1.000000e+00</td>\n",
       "      <td>1.000000e+00</td>\n",
       "    </tr>\n",
       "    <tr>\n",
       "      <th>25%</th>\n",
       "      <td>3.091325e+04</td>\n",
       "      <td>1.041000e+03</td>\n",
       "    </tr>\n",
       "    <tr>\n",
       "      <th>50%</th>\n",
       "      <td>1.433050e+05</td>\n",
       "      <td>2.072000e+03</td>\n",
       "    </tr>\n",
       "    <tr>\n",
       "      <th>75%</th>\n",
       "      <td>2.570070e+05</td>\n",
       "      <td>2.218400e+04</td>\n",
       "    </tr>\n",
       "    <tr>\n",
       "      <th>max</th>\n",
       "      <td>3.623810e+05</td>\n",
       "      <td>3.702940e+05</td>\n",
       "    </tr>\n",
       "  </tbody>\n",
       "</table>\n",
       "</div>"
      ],
      "text/plain": [
       "       boardgame_id       link_id\n",
       "count  1.053398e+06  1.053398e+06\n",
       "mean   1.505440e+05  2.687520e+04\n",
       "std    1.180027e+05  5.926709e+04\n",
       "min    1.000000e+00  1.000000e+00\n",
       "25%    3.091325e+04  1.041000e+03\n",
       "50%    1.433050e+05  2.072000e+03\n",
       "75%    2.570070e+05  2.218400e+04\n",
       "max    3.623810e+05  3.702940e+05"
      ]
     },
     "execution_count": 97,
     "metadata": {},
     "output_type": "execute_result"
    }
   ],
   "source": [
    "link_df.describe()"
   ]
  },
  {
   "cell_type": "code",
   "execution_count": 88,
   "id": "87af3cc4-89b3-416e-b94e-d625d29f851b",
   "metadata": {},
   "outputs": [
    {
     "data": {
      "text/html": [
       "<div>\n",
       "<style scoped>\n",
       "    .dataframe tbody tr th:only-of-type {\n",
       "        vertical-align: middle;\n",
       "    }\n",
       "\n",
       "    .dataframe tbody tr th {\n",
       "        vertical-align: top;\n",
       "    }\n",
       "\n",
       "    .dataframe thead th {\n",
       "        text-align: right;\n",
       "    }\n",
       "</style>\n",
       "<table border=\"1\" class=\"dataframe\">\n",
       "  <thead>\n",
       "    <tr style=\"text-align: right;\">\n",
       "      <th></th>\n",
       "      <th>boardgame_id</th>\n",
       "      <th>value</th>\n",
       "      <th>link_id</th>\n",
       "      <th>inbound</th>\n",
       "    </tr>\n",
       "    <tr>\n",
       "      <th>type</th>\n",
       "      <th></th>\n",
       "      <th></th>\n",
       "      <th></th>\n",
       "      <th></th>\n",
       "    </tr>\n",
       "  </thead>\n",
       "  <tbody>\n",
       "    <tr>\n",
       "      <th>boardgameartist</th>\n",
       "      <td>44813</td>\n",
       "      <td>23151</td>\n",
       "      <td>23187</td>\n",
       "      <td>0</td>\n",
       "    </tr>\n",
       "    <tr>\n",
       "      <th>boardgamecategory</th>\n",
       "      <td>105979</td>\n",
       "      <td>84</td>\n",
       "      <td>84</td>\n",
       "      <td>0</td>\n",
       "    </tr>\n",
       "    <tr>\n",
       "      <th>boardgamecompilation</th>\n",
       "      <td>2350</td>\n",
       "      <td>3276</td>\n",
       "      <td>3304</td>\n",
       "      <td>1</td>\n",
       "    </tr>\n",
       "    <tr>\n",
       "      <th>boardgamedesigner</th>\n",
       "      <td>91199</td>\n",
       "      <td>33281</td>\n",
       "      <td>33319</td>\n",
       "      <td>0</td>\n",
       "    </tr>\n",
       "    <tr>\n",
       "      <th>boardgameexpansion</th>\n",
       "      <td>8085</td>\n",
       "      <td>28634</td>\n",
       "      <td>28675</td>\n",
       "      <td>1</td>\n",
       "    </tr>\n",
       "    <tr>\n",
       "      <th>boardgamefamily</th>\n",
       "      <td>73599</td>\n",
       "      <td>4612</td>\n",
       "      <td>4612</td>\n",
       "      <td>0</td>\n",
       "    </tr>\n",
       "    <tr>\n",
       "      <th>boardgameimplementation</th>\n",
       "      <td>9333</td>\n",
       "      <td>9358</td>\n",
       "      <td>9542</td>\n",
       "      <td>1</td>\n",
       "    </tr>\n",
       "    <tr>\n",
       "      <th>boardgameintegration</th>\n",
       "      <td>3849</td>\n",
       "      <td>3978</td>\n",
       "      <td>3985</td>\n",
       "      <td>0</td>\n",
       "    </tr>\n",
       "    <tr>\n",
       "      <th>boardgamemechanic</th>\n",
       "      <td>91722</td>\n",
       "      <td>188</td>\n",
       "      <td>188</td>\n",
       "      <td>0</td>\n",
       "    </tr>\n",
       "    <tr>\n",
       "      <th>boardgamepublisher</th>\n",
       "      <td>107978</td>\n",
       "      <td>23571</td>\n",
       "      <td>23595</td>\n",
       "      <td>0</td>\n",
       "    </tr>\n",
       "  </tbody>\n",
       "</table>\n",
       "</div>"
      ],
      "text/plain": [
       "                         boardgame_id  value  link_id  inbound\n",
       "type                                                          \n",
       "boardgameartist                 44813  23151    23187        0\n",
       "boardgamecategory              105979     84       84        0\n",
       "boardgamecompilation             2350   3276     3304        1\n",
       "boardgamedesigner               91199  33281    33319        0\n",
       "boardgameexpansion               8085  28634    28675        1\n",
       "boardgamefamily                 73599   4612     4612        0\n",
       "boardgameimplementation          9333   9358     9542        1\n",
       "boardgameintegration             3849   3978     3985        0\n",
       "boardgamemechanic               91722    188      188        0\n",
       "boardgamepublisher             107978  23571    23595        0"
      ]
     },
     "execution_count": 88,
     "metadata": {},
     "output_type": "execute_result"
    }
   ],
   "source": [
    "link_df.groupby('type').nunique()"
   ]
  },
  {
   "cell_type": "code",
   "execution_count": 94,
   "id": "44218a90-079d-4ffd-81ef-d53164b2d447",
   "metadata": {},
   "outputs": [
    {
     "data": {
      "text/plain": [
       "(8986, 5)"
      ]
     },
     "metadata": {},
     "output_type": "display_data"
    },
    {
     "data": {
      "text/html": [
       "<div>\n",
       "<style scoped>\n",
       "    .dataframe tbody tr th:only-of-type {\n",
       "        vertical-align: middle;\n",
       "    }\n",
       "\n",
       "    .dataframe tbody tr th {\n",
       "        vertical-align: top;\n",
       "    }\n",
       "\n",
       "    .dataframe thead th {\n",
       "        text-align: right;\n",
       "    }\n",
       "</style>\n",
       "<table border=\"1\" class=\"dataframe\">\n",
       "  <thead>\n",
       "    <tr style=\"text-align: right;\">\n",
       "      <th></th>\n",
       "      <th>boardgame_id</th>\n",
       "      <th>type</th>\n",
       "      <th>value</th>\n",
       "      <th>link_id</th>\n",
       "      <th>inbound</th>\n",
       "    </tr>\n",
       "  </thead>\n",
       "  <tbody>\n",
       "    <tr>\n",
       "      <th>55</th>\n",
       "      <td>304743</td>\n",
       "      <td>boardgameimplementation</td>\n",
       "      <td>Absolute Dice</td>\n",
       "      <td>304740</td>\n",
       "      <td>true</td>\n",
       "    </tr>\n",
       "    <tr>\n",
       "      <th>147</th>\n",
       "      <td>257273</td>\n",
       "      <td>boardgameimplementation</td>\n",
       "      <td>That's Life!</td>\n",
       "      <td>17240</td>\n",
       "      <td>true</td>\n",
       "    </tr>\n",
       "    <tr>\n",
       "      <th>491</th>\n",
       "      <td>342924</td>\n",
       "      <td>boardgameimplementation</td>\n",
       "      <td>Timeline: Inventions</td>\n",
       "      <td>85256</td>\n",
       "      <td>true</td>\n",
       "    </tr>\n",
       "    <tr>\n",
       "      <th>1014</th>\n",
       "      <td>217470</td>\n",
       "      <td>boardgameimplementation</td>\n",
       "      <td>Qwinto</td>\n",
       "      <td>183006</td>\n",
       "      <td>true</td>\n",
       "    </tr>\n",
       "    <tr>\n",
       "      <th>1066</th>\n",
       "      <td>214026</td>\n",
       "      <td>boardgamecompilation</td>\n",
       "      <td>Cheaters' Chili</td>\n",
       "      <td>244805</td>\n",
       "      <td>true</td>\n",
       "    </tr>\n",
       "  </tbody>\n",
       "</table>\n",
       "</div>"
      ],
      "text/plain": [
       "      boardgame_id                     type                 value  link_id  \\\n",
       "55          304743  boardgameimplementation         Absolute Dice   304740   \n",
       "147         257273  boardgameimplementation          That's Life!    17240   \n",
       "491         342924  boardgameimplementation  Timeline: Inventions    85256   \n",
       "1014        217470  boardgameimplementation                Qwinto   183006   \n",
       "1066        214026     boardgamecompilation       Cheaters' Chili   244805   \n",
       "\n",
       "     inbound  \n",
       "55      true  \n",
       "147     true  \n",
       "491     true  \n",
       "1014    true  \n",
       "1066    true  "
      ]
     },
     "execution_count": 94,
     "metadata": {},
     "output_type": "execute_result"
    }
   ],
   "source": [
    "display(link_df[link_df['inbound'].notna()].shape)\n",
    "link_df[link_df['inbound'].notna()].head()\n"
   ]
  },
  {
   "cell_type": "markdown",
   "id": "252ea645-bf80-4632-812e-1b082823e1e2",
   "metadata": {},
   "source": [
    "## Part 3 When is the golden age of board games\n",
    "- link data rise of certain types of games"
   ]
  },
  {
   "cell_type": "code",
   "execution_count": null,
   "id": "b4b6abb1-0fe5-4935-bad1-7495b03e1d8e",
   "metadata": {},
   "outputs": [],
   "source": [
    "# Could trim off low ratings a la BGG"
   ]
  }
 ],
 "metadata": {
  "kernelspec": {
   "display_name": "Python 3 (ipykernel)",
   "language": "python",
   "name": "python3"
  },
  "language_info": {
   "codemirror_mode": {
    "name": "ipython",
    "version": 3
   },
   "file_extension": ".py",
   "mimetype": "text/x-python",
   "name": "python",
   "nbconvert_exporter": "python",
   "pygments_lexer": "ipython3",
   "version": "3.10.4"
  },
  "toc-autonumbering": false,
  "toc-showmarkdowntxt": false,
  "toc-showtags": false
 },
 "nbformat": 4,
 "nbformat_minor": 5
}
